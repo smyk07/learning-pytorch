{
  "nbformat": 4,
  "nbformat_minor": 0,
  "metadata": {
    "colab": {
      "provenance": [],
      "gpuType": "T4"
    },
    "kernelspec": {
      "name": "python3",
      "display_name": "Python 3"
    },
    "language_info": {
      "name": "python"
    },
    "accelerator": "GPU"
  },
  "cells": [
    {
      "cell_type": "markdown",
      "source": [
        "# 00. Pytorch Fundamentals\n",
        "\n",
        "[Course Video](https://youtu.be/V_xro1bcAuA)\n",
        "\n",
        "[Resource Notebook](https://www.learnpytorch.io/00_pytorch_fundamentals/#introduction-to-tensors)\n",
        "\n",
        "[GitHub Discussions](https://github.com/mrdbourke/pytorch-deep-learning)"
      ],
      "metadata": {
        "id": "yXxtY5ZhPurM"
      }
    },
    {
      "cell_type": "code",
      "source": [
        "# Import Modules\n",
        "import torch\n",
        "import pandas as pd\n",
        "import numpy as np\n",
        "import matplotlib.pyplot as plt\n",
        "\n",
        "# Print PyTorch Version\n",
        "print(torch.__version__)"
      ],
      "metadata": {
        "colab": {
          "base_uri": "https://localhost:8080/"
        },
        "id": "c3U8ACKkPc1D",
        "outputId": "86817985-1f5e-43c2-d688-55ea67841241"
      },
      "execution_count": 2,
      "outputs": [
        {
          "output_type": "stream",
          "name": "stdout",
          "text": [
            "2.2.1+cu121\n"
          ]
        }
      ]
    },
    {
      "cell_type": "markdown",
      "source": [
        "# Introduction to Tensors\n",
        "\n",
        "- Tensors are the main building blocks of Deep Learning and Machine Learning.\n",
        "- In theory, Tensors are a way to represent multi-dimensional data numerically.\n",
        "- In Pytorch, almost everything is referred to as a tensor.\n",
        "\n",
        "## Creating Tensors\n",
        "- PyTorch tensors are created using `torch.Tensor()` (See docs for more info)\n",
        "\n",
        "### 1. Scalar Tensors"
      ],
      "metadata": {
        "id": "QMFql2euQeQr"
      }
    },
    {
      "cell_type": "code",
      "source": [
        "scalar = torch.tensor(7)\n",
        "scalar"
      ],
      "metadata": {
        "colab": {
          "base_uri": "https://localhost:8080/"
        },
        "id": "DmHDYxXnRmOF",
        "outputId": "fbce3b78-c0f0-4072-f2f9-6f6873278dd1"
      },
      "execution_count": 3,
      "outputs": [
        {
          "output_type": "execute_result",
          "data": {
            "text/plain": [
              "tensor(7)"
            ]
          },
          "metadata": {},
          "execution_count": 3
        }
      ]
    },
    {
      "cell_type": "markdown",
      "source": [
        "- `scalar.ndim` - find out how many dimensions there are to the tensor."
      ],
      "metadata": {
        "id": "yiwsaVLGUZLj"
      }
    },
    {
      "cell_type": "code",
      "source": [
        "scalar.ndim"
      ],
      "metadata": {
        "colab": {
          "base_uri": "https://localhost:8080/"
        },
        "id": "gNuWHwM3SVWR",
        "outputId": "f2e0ed70-3fc8-4215-cb6a-c9dd0447c05e"
      },
      "execution_count": 4,
      "outputs": [
        {
          "output_type": "execute_result",
          "data": {
            "text/plain": [
              "0"
            ]
          },
          "metadata": {},
          "execution_count": 4
        }
      ]
    },
    {
      "cell_type": "markdown",
      "source": [
        "- `scalar.item()` will get the tensor back as a pyton integer (here)"
      ],
      "metadata": {
        "id": "1MQjl_6WUs66"
      }
    },
    {
      "cell_type": "code",
      "source": [
        "scalar.item()"
      ],
      "metadata": {
        "colab": {
          "base_uri": "https://localhost:8080/"
        },
        "id": "E40TmKBIUPeS",
        "outputId": "c5640c01-50e0-4336-a292-f4f63c9ee13b"
      },
      "execution_count": 5,
      "outputs": [
        {
          "output_type": "execute_result",
          "data": {
            "text/plain": [
              "7"
            ]
          },
          "metadata": {},
          "execution_count": 5
        }
      ]
    },
    {
      "cell_type": "code",
      "source": [
        "# Vector - 1 dimensional tensor\n",
        "\n",
        "vector = torch.tensor([7, 7])\n",
        "vector"
      ],
      "metadata": {
        "colab": {
          "base_uri": "https://localhost:8080/"
        },
        "id": "MhVRtOiOUpHB",
        "outputId": "33ad6a5f-d5ca-47d6-8db0-59202dedb672"
      },
      "execution_count": 6,
      "outputs": [
        {
          "output_type": "execute_result",
          "data": {
            "text/plain": [
              "tensor([7, 7])"
            ]
          },
          "metadata": {},
          "execution_count": 6
        }
      ]
    },
    {
      "cell_type": "code",
      "source": [
        "vector.ndim"
      ],
      "metadata": {
        "colab": {
          "base_uri": "https://localhost:8080/"
        },
        "id": "mbzYhtaZVALp",
        "outputId": "68a2e73e-289e-4301-c4ff-5d4b663df0ac"
      },
      "execution_count": 7,
      "outputs": [
        {
          "output_type": "execute_result",
          "data": {
            "text/plain": [
              "1"
            ]
          },
          "metadata": {},
          "execution_count": 7
        }
      ]
    },
    {
      "cell_type": "code",
      "source": [
        "vector.shape"
      ],
      "metadata": {
        "colab": {
          "base_uri": "https://localhost:8080/"
        },
        "id": "OL_RuQxzVOxx",
        "outputId": "9d535ef3-02d5-4990-8fd6-c742bc4a6cfb"
      },
      "execution_count": 8,
      "outputs": [
        {
          "output_type": "execute_result",
          "data": {
            "text/plain": [
              "torch.Size([2])"
            ]
          },
          "metadata": {},
          "execution_count": 8
        }
      ]
    },
    {
      "cell_type": "code",
      "source": [
        "# MATRIX - 2 dimensional tensor\n",
        "\n",
        "MATRIX = torch.tensor([[7, 8],\n",
        "                       [9, 10]])\n",
        "MATRIX"
      ],
      "metadata": {
        "colab": {
          "base_uri": "https://localhost:8080/"
        },
        "id": "BXseW8y5VTqU",
        "outputId": "fcd98f07-832e-424c-9c48-6db6267a2052"
      },
      "execution_count": 9,
      "outputs": [
        {
          "output_type": "execute_result",
          "data": {
            "text/plain": [
              "tensor([[ 7,  8],\n",
              "        [ 9, 10]])"
            ]
          },
          "metadata": {},
          "execution_count": 9
        }
      ]
    },
    {
      "cell_type": "code",
      "source": [
        "# nice rule to remember - two square brackets to the tensor has 2 dimensions\n",
        "# no of square brackets correspponds to no of dimensions\n",
        "MATRIX.ndim"
      ],
      "metadata": {
        "colab": {
          "base_uri": "https://localhost:8080/"
        },
        "id": "LYNpEe94Vr3w",
        "outputId": "bae9b0dd-e408-4dcd-99c2-b3e058b717d3"
      },
      "execution_count": 10,
      "outputs": [
        {
          "output_type": "execute_result",
          "data": {
            "text/plain": [
              "2"
            ]
          },
          "metadata": {},
          "execution_count": 10
        }
      ]
    },
    {
      "cell_type": "code",
      "source": [
        "MATRIX.shape\n",
        "\n",
        "# therefore, a total of 4 numbers (as shape is 2, 2)"
      ],
      "metadata": {
        "colab": {
          "base_uri": "https://localhost:8080/"
        },
        "id": "T-kwrc_pVuao",
        "outputId": "34aed18e-da6c-4541-c002-1c895f698c42"
      },
      "execution_count": 11,
      "outputs": [
        {
          "output_type": "execute_result",
          "data": {
            "text/plain": [
              "torch.Size([2, 2])"
            ]
          },
          "metadata": {},
          "execution_count": 11
        }
      ]
    },
    {
      "cell_type": "code",
      "source": [
        "# TENSOR - n dimensional tensor (however many dimensions you want)\n",
        "\n",
        "TENSOR = torch.tensor([[[1, 2, 3],\n",
        "                        [3, 6, 9],\n",
        "                        [2, 4, 5]]])\n",
        "\n",
        "TENSOR"
      ],
      "metadata": {
        "colab": {
          "base_uri": "https://localhost:8080/"
        },
        "id": "JXncn33FVwVZ",
        "outputId": "5e9730b9-9247-451c-9df0-1ef5be41dbb0"
      },
      "execution_count": 12,
      "outputs": [
        {
          "output_type": "execute_result",
          "data": {
            "text/plain": [
              "tensor([[[1, 2, 3],\n",
              "         [3, 6, 9],\n",
              "         [2, 4, 5]]])"
            ]
          },
          "metadata": {},
          "execution_count": 12
        }
      ]
    },
    {
      "cell_type": "code",
      "source": [
        "TENSOR.ndim"
      ],
      "metadata": {
        "colab": {
          "base_uri": "https://localhost:8080/"
        },
        "id": "yksG6gDrWln-",
        "outputId": "40998953-aa8c-4ddf-db4e-506ea176c279"
      },
      "execution_count": 13,
      "outputs": [
        {
          "output_type": "execute_result",
          "data": {
            "text/plain": [
              "3"
            ]
          },
          "metadata": {},
          "execution_count": 13
        }
      ]
    },
    {
      "cell_type": "code",
      "source": [
        "TENSOR.shape"
      ],
      "metadata": {
        "colab": {
          "base_uri": "https://localhost:8080/"
        },
        "id": "6aL80r__Wo8p",
        "outputId": "eb949250-c358-493a-b22a-54b29a5b1205"
      },
      "execution_count": 14,
      "outputs": [
        {
          "output_type": "execute_result",
          "data": {
            "text/plain": [
              "torch.Size([1, 3, 3])"
            ]
          },
          "metadata": {},
          "execution_count": 14
        }
      ]
    },
    {
      "cell_type": "markdown",
      "source": [
        "### 2. Random Tensors\n",
        "\n",
        "- Why random tensors? - Random tensors are important, because, the way neural networks learn is that they start will tensors full or random numbers and then adjust those random numbers to better represent the data.\n",
        "- `Start with random numbers -> look at data -> update random numbers -> look at data -> update random numbers` This is the crux of neural networks."
      ],
      "metadata": {
        "id": "YIwTZqGPXSD_"
      }
    },
    {
      "cell_type": "code",
      "source": [
        "# creating a random tensor of size (3, 4)\n",
        "random_tensor = torch.rand(3, 4)\n",
        "random_tensor"
      ],
      "metadata": {
        "colab": {
          "base_uri": "https://localhost:8080/"
        },
        "id": "3VLWSju6X-xj",
        "outputId": "160f8df7-599a-46db-b112-c8bc78ddfe61"
      },
      "execution_count": 15,
      "outputs": [
        {
          "output_type": "execute_result",
          "data": {
            "text/plain": [
              "tensor([[0.7465, 0.0416, 0.9806, 0.6346],\n",
              "        [0.2785, 0.9905, 0.5263, 0.8819],\n",
              "        [0.4918, 0.7713, 0.1266, 0.3200]])"
            ]
          },
          "metadata": {},
          "execution_count": 15
        }
      ]
    },
    {
      "cell_type": "code",
      "source": [
        "# as we can see, we created a 2 dimensional tensor (aka matrix)\n",
        "random_tensor.ndim"
      ],
      "metadata": {
        "colab": {
          "base_uri": "https://localhost:8080/"
        },
        "id": "J4YMDTwQZM2m",
        "outputId": "b0d4c2e9-907b-4bc0-d790-a55467604ebd"
      },
      "execution_count": 16,
      "outputs": [
        {
          "output_type": "execute_result",
          "data": {
            "text/plain": [
              "2"
            ]
          },
          "metadata": {},
          "execution_count": 16
        }
      ]
    },
    {
      "cell_type": "code",
      "source": [
        "# create a random tensor with similar shape to an image tensor\n",
        "random_image_size_tensor = torch.rand(size = (224, 224, 3)) # height, width, color channels (RGB)\n",
        "\n",
        "random_image_size_tensor.ndim, random_image_size_tensor.shape"
      ],
      "metadata": {
        "colab": {
          "base_uri": "https://localhost:8080/"
        },
        "id": "QbOl4QB8ZVnt",
        "outputId": "4a38a0cf-4203-4443-d62f-0e3e6845dafa"
      },
      "execution_count": 17,
      "outputs": [
        {
          "output_type": "execute_result",
          "data": {
            "text/plain": [
              "(3, torch.Size([224, 224, 3]))"
            ]
          },
          "metadata": {},
          "execution_count": 17
        }
      ]
    },
    {
      "cell_type": "markdown",
      "source": [
        "- The takeaway from the above code is that almost any data can be represented by / as a tensors. The above example is the first discussion in the source notebook.\n",
        "- Most of tensor creation by pytorch is done behind the scenes for us.\n",
        "- Random tensors are so valuable because neaural neutworks start with random tensors, they look at data, adjust the tensors, then again look at the data and the flow goes on."
      ],
      "metadata": {
        "id": "mAqhNieFaAuc"
      }
    },
    {
      "cell_type": "code",
      "source": [
        "# the size parameter is default.\n",
        "torch.rand(3, 3)\n",
        "\n",
        "torch.rand(size=(3, 3))"
      ],
      "metadata": {
        "colab": {
          "base_uri": "https://localhost:8080/"
        },
        "id": "sER6J7ePa5H_",
        "outputId": "ddb7a117-e16a-482e-876b-f612cd032ccb"
      },
      "execution_count": 18,
      "outputs": [
        {
          "output_type": "execute_result",
          "data": {
            "text/plain": [
              "tensor([[0.4391, 0.0123, 0.6770],\n",
              "        [0.3287, 0.1732, 0.3347],\n",
              "        [0.8210, 0.2411, 0.5421]])"
            ]
          },
          "metadata": {},
          "execution_count": 18
        }
      ]
    },
    {
      "cell_type": "markdown",
      "source": [
        "### 3. Zeroes and Ones\n",
        "\n",
        "- Creating tensors with all zeros or all ones.\n",
        "- May be used in creating masks (explained further in course)"
      ],
      "metadata": {
        "id": "jIQuXfZKchZq"
      }
    },
    {
      "cell_type": "code",
      "source": [
        "# Create a tensor of all zeroes\n",
        "zeros = torch.zeros(size=(3, 4))\n",
        "zeros"
      ],
      "metadata": {
        "colab": {
          "base_uri": "https://localhost:8080/"
        },
        "id": "vdLKcdmFczro",
        "outputId": "e0ede5aa-9b16-4e41-c5e4-8fad70170897"
      },
      "execution_count": 19,
      "outputs": [
        {
          "output_type": "execute_result",
          "data": {
            "text/plain": [
              "tensor([[0., 0., 0., 0.],\n",
              "        [0., 0., 0., 0.],\n",
              "        [0., 0., 0., 0.]])"
            ]
          },
          "metadata": {},
          "execution_count": 19
        }
      ]
    },
    {
      "cell_type": "code",
      "source": [
        "# Creating a tensor of all ones\n",
        "ones = torch.ones(size=(3, 4))\n",
        "ones"
      ],
      "metadata": {
        "colab": {
          "base_uri": "https://localhost:8080/"
        },
        "id": "NE4LvGr6c7xR",
        "outputId": "8ad76fbe-bb6d-4adc-a49b-d5d9c5b38178"
      },
      "execution_count": 20,
      "outputs": [
        {
          "output_type": "execute_result",
          "data": {
            "text/plain": [
              "tensor([[1., 1., 1., 1.],\n",
              "        [1., 1., 1., 1.],\n",
              "        [1., 1., 1., 1.]])"
            ]
          },
          "metadata": {},
          "execution_count": 20
        }
      ]
    },
    {
      "cell_type": "code",
      "source": [
        "# tensors have data types, unless not defined, the data type is always float32. (32 bit floating point)\n",
        "\n",
        "ones.dtype"
      ],
      "metadata": {
        "colab": {
          "base_uri": "https://localhost:8080/"
        },
        "id": "3qInzh3cdQRM",
        "outputId": "1df7eb77-1dec-494d-801a-95f86bb7815e"
      },
      "execution_count": 21,
      "outputs": [
        {
          "output_type": "execute_result",
          "data": {
            "text/plain": [
              "torch.float32"
            ]
          },
          "metadata": {},
          "execution_count": 21
        }
      ]
    },
    {
      "cell_type": "markdown",
      "source": [
        "### 4. Creating a range of tensors and tensors-like\n",
        "\n",
        "- Range creates a 1-d tensor with values of `start` to `end`, with a step of `step`\n",
        "- Tensors-like replicates the shape of another tensor."
      ],
      "metadata": {
        "id": "Obd2UHMbdgUC"
      }
    },
    {
      "cell_type": "code",
      "source": [
        "# Creating a range\n",
        "one_to_ten = torch.arange(start=1, end=11)\n",
        "one_to_ten"
      ],
      "metadata": {
        "colab": {
          "base_uri": "https://localhost:8080/"
        },
        "id": "BhFNCLhXd-fT",
        "outputId": "d3677719-ebb4-49e2-ca5d-70a50666a7f8"
      },
      "execution_count": 22,
      "outputs": [
        {
          "output_type": "execute_result",
          "data": {
            "text/plain": [
              "tensor([ 1,  2,  3,  4,  5,  6,  7,  8,  9, 10])"
            ]
          },
          "metadata": {},
          "execution_count": 22
        }
      ]
    },
    {
      "cell_type": "code",
      "source": [
        "# Creating tensors-like\n",
        "ten_zeros = torch.zeros_like(input=one_to_ten)\n",
        "ten_zeros"
      ],
      "metadata": {
        "colab": {
          "base_uri": "https://localhost:8080/"
        },
        "id": "EVbQKwp2eFEd",
        "outputId": "ac339ddc-a5de-4e92-c8f3-8985e12f7bd9"
      },
      "execution_count": 23,
      "outputs": [
        {
          "output_type": "execute_result",
          "data": {
            "text/plain": [
              "tensor([0, 0, 0, 0, 0, 0, 0, 0, 0, 0])"
            ]
          },
          "metadata": {},
          "execution_count": 23
        }
      ]
    },
    {
      "cell_type": "markdown",
      "source": [
        "## Tensor Data Types\n",
        "\n",
        "Important parameters to be aware of while dealing with tensors -\n",
        "- `dtype` refers to the Data Type of the tensor.\n",
        "- `device` refers to the device on which the tensor exists. (cpu, cuda, etc.)\n",
        "- `requires_grad` is a boolean value, it states if we need pytorch to track the gradients or not while the tensor goes through some numerical calculations.\n",
        "\n",
        "Some common errors occouring when dealing with tensors -\n",
        "1. Tensors not right datatype\n",
        "2. Tensors not on right shape\n",
        "3. Tensors not on right device  "
      ],
      "metadata": {
        "id": "GsUUbAfafS_R"
      }
    },
    {
      "cell_type": "code",
      "source": [
        "# Creating a float32 tensor\n",
        "\n",
        "float_32_tensor = torch.tensor([3.0, 6.0, 9.0],\n",
        "                               dtype=torch.float32,\n",
        "                               device=None,\n",
        "                               requires_grad=False\n",
        "                               )\n",
        "float_32_tensor"
      ],
      "metadata": {
        "id": "BF7-J0oPgSTv",
        "colab": {
          "base_uri": "https://localhost:8080/"
        },
        "outputId": "0990015f-b466-4abe-f146-210a49ba3b17"
      },
      "execution_count": 24,
      "outputs": [
        {
          "output_type": "execute_result",
          "data": {
            "text/plain": [
              "tensor([3., 6., 9.])"
            ]
          },
          "metadata": {},
          "execution_count": 24
        }
      ]
    },
    {
      "cell_type": "code",
      "source": [
        "# Converting the float32 tensor into float16\n",
        "\n",
        "float_16_tensor = float_32_tensor.type(torch.float16)\n",
        "float_16_tensor"
      ],
      "metadata": {
        "colab": {
          "base_uri": "https://localhost:8080/"
        },
        "id": "pa-bcsv4KeCS",
        "outputId": "774cb825-1b7b-496d-dfb2-e921ff557404"
      },
      "execution_count": 25,
      "outputs": [
        {
          "output_type": "execute_result",
          "data": {
            "text/plain": [
              "tensor([3., 6., 9.], dtype=torch.float16)"
            ]
          },
          "metadata": {},
          "execution_count": 25
        }
      ]
    },
    {
      "cell_type": "markdown",
      "source": [
        "![image.png](data:image/png;base64,iVBORw0KGgoAAAANSUhEUgAAA48AAAGQCAYAAAAOdlVoAAAgAElEQVR4Xuzde7xVc+L/8beO03QeKrfIoEEZ95mJMBmapqJQclBRdBlFhe6cqFBUFLp3CpUUZeTSICqKZNQvE43JdRQpxi2XYo6vXfw+a+3L2WvttS/rnH06+/La/9VZt8/zs9Ze670/n/X57PWL+YgPAggggAACCCCAAAIIIIAAAgkE9iI8cn4ggAACCCCAAAIIIIAAAggkEyA8JhPi7wgggAACCCCAAAIIIIAAAiI8chIggAACCCCAAAIIIIAAAggkFSA8JiViAQQQQAABBBBAAAEEEEAAAcIj5wACCCCAAAIIIIAAAggggEBSAcJjUiIWQAABBBBAAAEEEEAAAQQQIDxyDiCAAAIIIIAAAggggAACCCQVIDwmJWIBBBBAAAEEEEAAAQQQQAABwiPnAAIIIIAAAggggAACCCCAQFIBwmNSIhZAAAEEEEAAAQQQQAABBBAgPHIOIIAAAggggAACCCCAAAIIJBUgPCYlYgEEEEAAAQQQQAABBBBAAAHCI+cAAggggAACCCCAAAIIIIBAUgHCY1IiFkAAAQQQQAABBBBAAAEEECA8cg4ggAACCCCAAAIIIIAAAggkFSA8JiViAQQQQAABBBBAAAEEEEAAAcIj5wACCCCAAAIIIIAAAggggEBSAcJjUiIWQAABBBBAAAEEEEAAAQQQIDxyDiCAAAIIIIAAAggggAACCCQVIDwmJWIBBBBAAAEEEEAAAQQQQAABwiPnAAIIIIAAAggggAACCCCAQFIBwmNSIhZAAAEEEEAAAQQQQAABBBAgPHIOIIAAAggggAACCCCAAAIIJBUgPCYlYgEEEEAAAQQQQAABBBBAAAHCI+cAAggggAACCCCAAAIIIIBAUgHCY1IiFkAgTwQ+XqyR477UBdOvUpM8KTLFRAABBBBAAAEEEEhdoFrD4+Krj9XQVVEHW1CkfY84VR2uKVG/C45RUerlYEkEEKiswOKrdexQadx796m4sttifQQQSCgQ+GyVZo64U3PXbtb3Aamw9qH6Q/vBurXkAh1j3/ze0fhWxZq9rXwz1jLHtOqtO0ddFlrG/G39/bp2zmc6b/jNaneoc5efPnO7xjx3iK7kByHORgTKBcre1yO33qjpy9/VF2W7rYtPDZv20I2j+6j5IYWh5VK7/tbff63mfHaeht/cTs7L71M9c/sYPXfIlZp+FT/HcvrllkD1h8dNPbV4RYmOt1zLvtaGF6bq9lELtOWUcVp2X7EOzC1vSoNA5goQHjO3bjiynBIIbJyg4svu1QcmNLo/BY1v0qq/9dBB4fDYaJzeM/dCKaAdbz2uoX1v06qiXnp82eDgfdO+bjep5+IVKrH/o/zzzvhWKp7diB+EcursoTCVEti+WFe3GapVOz22UtBYN636m3ocZP0tFB6TXH92I0j0c2xks+71K3XUrIxARglkVngM0QQ+m6NuLe/W170e17LBrrthPL53xqtV8TK18biB+hG3b7bL2pQHWj8rsywC2SwQEx7NTTbYFCn72ZUPAghUXiCwUoPP6KslPx6q1iMmatSFjXWA1dJo/3g6S8t2XaqhFx3h8fAa2vW6m9W06/M6Z/5a3X66+b9KhUeu8cpXKFvIGoHARo1v10mzP6mv1oPHakiHU3VkXdPSGNihz9/6pxat/k4X9LtI1tUXGx69r79Khcc0PbdmjT8HmjMCGRkeLd11NzdV16f/pBkbJqil+bfVxWfikBFa8MYXKttdqNoNz9cdD41X63DTpH0Rzla4h8/hPRdrhfkZNul6rqoM/lIb2Yr5NXeOim5orRn7j9Ta+Z1VN7z866N0Zucn1WTqa5rSeqUGNR6kDWdeoZPeXqDln1p9kOrp1G7jNKXkrPLW08CHemz4EE0OdZUoKDpYJ3e5w7lMzpxaFCTTBcref0Ql192pFVvKtFsFKiqqobKyP0W1UgQfLCM9y5uP0/LfzVLrGftr5Nr56lx+MWjUmZ31ZJOpem1KQ826sFiTarZTzxovau6Gb7XbdEc/otUI3Tuhg44K9wgyONtfmaqhY+Zq7ebvTZuKdU230E2lE9QheqFMR+T4EPApsGVqO7WeVqbujy/VsJOiLoiY7cRpuQjd6xqFf9RJQ3iMvsaDrZzJrs9luuH0odre6UbVe3W6lr9r7svmRZPjLp2mObeG73kBffjYYPUevULmK0ZFB5+sLqPv0aDmh5ir3bqpB++HE599S1/Z3XYbqsVNpZrQ4ajg3/WBZnS6VM80vFbNt87WvH9+pUDhibp+yRO6Kvh0zwcBXwI7FnZV05Gf6oqk15612dSuv8qHx9jn1qTX37IbdPrQ7ep0Yz29On253v3CusCO06XT5ujWs0IPxdb1Nbi3Rq/YYl+bB5/cRaPvGRTplhv48DENHzJRz75lrivP+2/wGv/u8hH61ZLR9nOCarfXtPV32c/kfPJbIGPDY/DX1C3qvWSZBh9thbO+etacu9GfgtODge4TR+ALLhEMj/9NuF7k2ddeI7Z/u9mK3RWozwbrC2eXbnxtobqFVnp91JnqvLy1Fv7jVp2i4EP2K/s11qWDB6rLKdLqCUN198qvdMyg57S4j3Wn26JZl7TVXRvd/ZSK1HbGBk3gaszvK3FPl/6dCWpzyb3afnwX3XqzNUDOet1/+ygt2HhKMDza11/0C8nmAE14fO/uMnVtOlK7bnxNC8svBvNDynK1XvgP3XpK6Dr63LSq9LlZPS8+QFvvv12jFmyUOdG1xpzo1oNhYGWJzrru7/rWvG7i+Bw/SC8u7uN6d2RP47A/BKpK4FPNLG6hiUXD9drCbuU/RnruzvvhNbC8v07r97Jahu8bFQ2P8a5xEx6TX5/Be96rR3fRpJklOrvB3vrsuet1ycBV+mP4uOwfWBfoq+iynRIu93Zzi29jxjxw9x2sY75mlpmeDtYDcPieXEcnXXe/Hup3srR1q/7XoAGvs1TV6Znj213S9wQNfr9Hij3LUrv+KhoenQ0V0c+tptEj2f3RvnZf1dFdJmlmydlqsPdneu76SzRw1R8jDS72M+oCx9WnU4aH7tvxuu7Waa5xy8z9386foR+PC+qr7d2Patz5B2r71u06sEHox58cP1coXmKBDA+P4fc4duitf27W/g2P1aFW/x7TxeCFm1rr2jcuLv8SsLvyfKBrogKelMJ6Lh+7xfODa5w39h0L7Qfmnf1fNEHQeiX6dbul5bXLluuZflYwDF5km0KtncFNbte8zs005uNLgwFz5WA17rvE/AIU+2lOt0Cu0z0qsEMLuzbVyE+v0ONLhynS+OHutrpjnjqfVqqjw93j7GMMrbuzfyTk2Tep1y7T8mf6me4+XjfcgOlJ8Bd1fbxhqMUy9AD9jkehD496B3qPmrAzBPaEgJ/3oNzLlunrDQs1oNc4rfufecj7l3nIs36JqWh4tC9nr2s8levTq7ur8z5oPxwv+p2mvzxJZ5vbdtnX/9Hm7+rrxKPML7D2/XCp6ra9Qw+PuVANiqz3Oefr2u6mbL/qEvpRNlj+BUeM0Yo5HQiMe+L0zPF9xAY9V+8aU/7y57HUrr+Khkeb2vO5NYXrz2t8Asf3QPDYF/1uul6edLZpdzTfHf/ZrO/qn6jg5ddYfZfWVds7HtaYCxuoyDxTvzX/WnUft06/6rJQ/7jVtICEn2u7P66lw04K9QbI8ROE4qUskOHhMdzyaMpjRsd6eup4lT75pv773Xem66r5v+gHzXiDfSRbz0VlfxEoPEBB+I8BLe9/mvpt7hl8QLYv+Dd0+fJnZGdHz/Bo3Zc767QxdeyWnGM9WkeDW6flMeWzlQXTJGDeuTIt+W90elwvmptC5OO+huK8jxFs+disnvb5v043N+2qNy4P/5AS5+HYvmZe1cX2O8mxN+zIMdDymKY6ZjOZKVCBlseo0VaDZSrQkb2jxgOoTHj0vMZTuT6Th8dw68kPRWaE2DPO0wUXt9UlzU6U9YrZBxPaqO28YzX1tSlqHdVzN/DYlTppeJmG2z8CB79LlrUJvoLCB4HKCgRfhzo95rwLbtd9Tnv1Rou9/ioVHj2fW1O4/pKGx4BWmlemrvv7Dyo69Bidcd4FurjtJWp2Yl0TAj/QhDZtNe9Y6zWT1lGhMKDHrjxJw8vCvQN4H7qy51sur5+x4dG+yJ8/R/PX3q7TQy19f6t9gW4d2VvNjj1c381q5xzYxvMiDLYQJlwvpfBoFrJ/KX3ffmD+46ym6vHRgKh3IL1aHk0DqX0j3NsOj6fPLFaLiQdozMY56pDoNZdcPtsoW4YIeJ+vwRaMqKk64r7MHwyf7/c0gfGPs9S0x0caEHkHMk543DhWLS5ZofPs8BgnvGaIDoeBQFUK+H7nMRIezXvB5kGw1bX3aEzkvUDrmbcSo616XuOpXJ/Jw6NlWLZ1jZ5a+LD+9twavf/p9/r5yN72KLGFhMeqPMXYdjwBuyv131S756N6psTdmpYsPHpff+kPjylcf0nDo331aeuap7Tw4b/puTXv69Pvfw796FRIeOQKqbRARobH8GirZf1D7wt+OlPFLSZq5+WP6JlbTtbeOz7S0zddppvW/0WzV9+psyJdd77R0FcX6cq6O7RjV13V/SaF9bzC4zfmXY5FV6rujh3aVbduaL7JYBB9+cJB+sOCmdo13hooJ5wCvR7GQ62V6y8KdsEJvf/xf+YF5FmTO6ux1f3WjK73n/e+0gGNj6FLTqVPZTaQukDwl8dZB7sGgfIMj0/otNmrdedZu7Rjx96qazUbmI/dVfXlCzXoDws0c9f4qF8wvcOj/cAcGWgn1PV1fQN1mnKvbmh+pGmNMN3WPn9LW/93ounWxq8rqdclS2adwI4l6ttysFaGRlsdcf6Jqm+uq8COz/XWqge14POzNb6X1W0sxS6uoQF0DjDvQC26Mnpyq+2a09EMgBVI8B6xva77Gi8LdmtPeH2mEB4/fkNr/u8INf7tAXa3uY8mX642pfWC71SHu622vEUzxl0i0yASt9sqLY9Zd4Zn8AGH37X9UYe2HqGJoy4sfxbbMF2DejykQyOvEaV2/QXfXTwg+OzpuPzmqOOfxikwKPy6kweLfc91PbcWpXB/TCE8fvzGGv3fEY31W/tZ8yNNvryNSusFe9WFu622vGWGxl1iegNYr3jF6bbKaOsZfDpX46FlVniMO89jMLiVv/tbpDObH6+1q17XbmsQD2t0uCV9dcLglWbUyOAnOGBOWfL1XPj2C9UrI1txzJ1lf0nM/a8Kap6raaFRYIOrB2+kb559hxbdfbF5eTl8Ia7Xb4evNgOLWN8o8QYIOJPWyGq8APJ111tMS/h5E7epydAHNb3riSrcuUELB/TSuHWhAXMsmA/MoDpt79VHYaTwtWb9237onKv/FtTUudOiB3wK3XCLrtITCwaYh8Jd2vrCWPXq/6i+v2S+XjJzC9gD5mwcr3adZusj14A5h5r3KxxdafO1gih3TgsknOex5QS9PaNt6uEx/H79v+qp5S1TdPOfDzbrfqH1ZtC2oU9/rrPGvWwGoHEODxfBjXONJ78+k4dHu/fQo9846rHAdEt/zgyIdYQZQG5m8Xma+I57xKzYAXMIjzl9Kez5woWn63DffKwjMYPDdJ3/skY0sW9ydrfp2ZF5HuMc6nbz3nCzMfpXvZa6ZcrNCl5+6zVh6FA9/flZGvey+bEkzuXn/dxqBsxJdn9MGh6Dr5M4L78CHR8ewHGLaVg5b6JiL7/YAXMIj3v+FM2GPVZ/eIwe0NEM6b/vEaeqwzUl6nfBMaEWvyBjYONM9eg9TWa0bjPC1EzNG7afHuxwhWbVH6m3rfBovhBm9uitafZw3vV04lVT9MSAJsnXc9VS+X7M4MX1TtRVU56Q2Uzws2Wq2rWepm8iLxSHV/boo16wn+nmOlNzzQhx1hRewUJ8plUTh2jEgjf0hXlp0xqavOk1YzW1Z9Qy2XDWcIw5ILBdy0s6aPDfPzXDdFs3TXO+Hl9bGzZGTyhuLdNZJc8Eh/o+ovVozZ3ULjQS6hZNbdda074JD24RJvF6T6RQh144XgvHnK9DohoV7alCBtylF62pOsy1f/BxxWaqjuE6P3qhHJCmCAh4CVjTSM0ccafmrt2s70NTVTTtcaNG92keuk5SfHi1Nl72hqb26GNGWjRT44R35nUPijmQ+Nd44uszeXi0xil4pGSA7nrRKl+h6p3aTeOmmFGWw60z9lQC1+gO++9mqiD3VB6hh3fCI9dP2gXMuffc2BEa/9S/THfOgAqK9tURp3bVjaP7RKaySDk82pffVPXoM0MbooYPLzCj7/edOVf9To48AcYWI85zq31JJ7o/Jg2PrvU9po6zpuoYfM0d5fdf11Qese+Apr0W2GAWC1RreMw6Nzs8LlObyEA5zvC46fIHNL/XkdaTuGofVN8eGIAPApksYHWV+/L73aq1/6HBicpT/gTD47I24YFyXOHxiBF6eXQr+0HW/7ZTPggWRACBKIHw9cw9iNMCgT0tYL168aXM7dRcfrV1UH1rcBo+COSmAOHRR706pySIXjHOACQ+ts2iCGSVgP0O72u6LOaHFB+tJVlVYA4WAQQQQAABBBBAgPCY7BzYvlUfFR6iw/73uHqfe6f2Hun1/gjhMRkjf88Fge3a+lGhDjnsf3q897m6c++Retl0GXe+zkF4zIWapgwIIIAAAggggICXAOExyXnx5cPddc6YtfY7X8ddOk1zbj3LY2RUwiOXVx4IfPmwup8zRmvLzOykx12qaXNuLX9/KVJ8wmMenAkUEQEEEEAAAQTyVIDwmKcVT7ERQAABBBBAAAEEEEAAAT8ChEc/WiyLAAIIIIAAAggggAACCOSpAOExTyueYiOAAAIIIIAAAggggAACfgQIj360WBYBBBBAAAEEEEAAAQQQyFMBwmOeVjzFRgABBBBAAAEEEEAAAQT8CBAe/WixLAIIIIAAAggggAACCCCQpwKExzyteIqNAAIIIIAAAggggAACCPgRIDz60WJZBBBAAAEEEEAAAQQQQCBPBQiPeVrxFBsBBBBAAAEEEEAAAQQQ8CNAePSjxbIIIIAAAggggAACCCCAQJ4KEB7ztOIpNgIIIIAAAggggAACCCDgR4Dw6EeLZRFAAAEEEEAAAQQQQACBPBUgPOZpxVNsBBBAAAEEEEAAAQQQQMCPAOHRjxbLIoAAAggggAACCCCAAAJ5KkB4zNOKp9gIIIAAAggggAACCCCAgB8BwqMfLZZFAAEEEEAAAQQQQAABBPJUgPCYpxVPsRFAAAEEEEAAAQQQQAABPwKERz9aLIsAAggggAACCCCAAAII5KkA4TFPK55iI4AAAggggAACCCCAAAJ+BAiPfrRYFgEEEEAAAQQQQAABBBDIUwHCY55WPMVGAAEEEEAAAQQQQAABBPwIEB79aLEsAggggAACCCCAAAIIIJCnAoTHPK14io0AAggggAACCCCAAAII+BEgPPrRYlkEEEAAAQQQQAABBBBAIE8FCI95WvEUGwEEEEAAAQQQQAABBBDwI0B49KPFsggggAACCCCAAAIIIIBAngoQHvO04ik2AggggAACCCCAAAIIIOBHgPDoR4tlEUAAAQQQQAABBBBAAIE8FSA85mnFU2wEEEAAAQQQQAABBBBAwI8A4dGPFssigAACCCCAAAIIIIAAAnkqQHjM04qn2AgggAACCCCAAAIIIICAHwHCox8tlkUAAQQQQAABBBBAAAEE8lSgwuGxX7/+eUpGsRFAAAEEEEAAAQQQQACB3BaYOnVKTAEJj7ld55QOAQQQQAABBBBAAAEEEPAtkNbw6HvvrIAAAggggAACCCCAAAIIIJC1AhVueczaEnPgCCCAAAIIIIAAAggggAACvgUIj77JWAEBBBBAAAEEEEAAAQQQyD8BwmP+1TklRgABBBBAAAEEEEAAAQR8CxAefZOxAgIIIIAAAggggAACCCCQfwKEx/yrc0qMAAIIIIAAAggggAACCPgWIDz6JmMFBBBAAAEEEEAAAQQQQCD/BAiP+VfnlBgBBBBAAAEEEEAAAQQQ8C1AePRNxgoIIIAAAggggAACCCCAQP4JEB7zr84pMQIIIIAAAggggAACCCDgW4Dw6JuMFRBAAAEEEEAAAQQQQACB/BMgPOZfnVNiBBBAAAEEEEAAAQQQQMC3AOHRNxkrIIAAAggggAACCCCAAAL5J0B4zL86p8QIIIAAAggggAACCCCAgG8BwqNvMlZAAAEEEEAAAQQQQAABBPJPgPCYf3VOiRFAAAEEEEAAAQQQQAAB3wKER99krIAAAggggAACCCCAAAII5J8A4TH/6pwSI4AAAggggAACCCCAAAK+BQiPvslYAQEEEEAAAQQQQAABBBDIPwHCY/7VOSVGAAEEEEAAAQQQQAABBHwLEB59k7ECAggggAACCCCAAAIIIJB/AoTH/KtzSowAAggggAACCCCAAAII+BYgPPomYwUEEEAAAQQQQAABBBBAIP8ECI/5V+eUGAEEEEAAAQQQQAABBBDwLUB49E3GCggggAACCCCAAAIIIIBA/gkQHvOvzikxAhkm8JR2XDBcGvhv1W1VuUMrG/k7/bg+vI1mqvV0qYo236PvBszVz6H/rlG8SPv2PK5yO2JtBBBAAAEEEEAgDwUIj3lY6RQZgViBd/V9r47afUZ1BKt0hcdk2wn+/ZcqCo8/zT5XP6w5R/vMGqKabuAV1+ibSavL/7d+D+dyroCrJmO0/8j2nKgIIIAAAggggEBGCRAeM6o6OBgEqkuA8FhZ+bjhMRQM94q0rAZD7O5wQAz9XZFQ6/p7Cge2/ZWpGnrbbL26pUy7C4p08MlddMeUEp11YGjlZTfo9KHf6fIRv9KS0StkFlPt9tO0/q6WKWydRRBAAAEEEEAAgaAA4ZEzAYG8FggFFQ+DguhupI6Ws8NUOHmpajcMrmSHpsWfBP9hAtE+DUqD/45uXUvYdTTcYrhINRZ2VOBzsx13y1yiOnK36kWWDXVbjfw7Ucuj08HdtdVRRrO9aBtnV9moA43behgM6gGFWh83v6ufGh7naK20t7nN1ToZxyCwcbzadZqtj3Y7Fyg4sqcefaZEJxWa/198tY4dukoF9dvq7kfH6fwDt2vr9gPV4BDrj3wQQAABBBBAAIHUBAiPqTmxFAI5LpCg5dEOZ5vLA6P73yEZO/ComQob9Fft6HcK3S1vcVrifqnfTAXDSlVbwXcUy1viUqWvaLdVd6h0/ds+3k2qab0/aR1KnPIn7LYaXYSYlkZ3+ULh8vBUuq5+qpnFLTRx20m6rvQB9Tm9rgrLtuqFsb3U/9GtajJyreZ3rhsKj5vU/fGlGmanST4IIIAAAggggIB/AcKjfzPWQCAHBeKHx2AojA4y3i14wRY4d2tfuGWyYXDwGk859/b8hKfoDVYwPNphUI7jS9jyFxN+g8eQNDxGWkhjjaJLEWzllKN1N/4Jt0R9TxisrX2X65l+R0QttlFjW1yip86ar7W3nx4Kj9K49+5TcQ6evRQJAQQQQAABBPaMAOFxzzizFwQyXCBeePQKct7LxobMqFC1OHl4LB9tdc+Gx2BYcx6fOwh6dU11dOtNJTxGzoD47zT6C47WBgmPGX5hcXgIIIAAAgjklADhMaeqk8IgUFGBNLU8OloosyM8BruhJmh5dHdTrWjLY1TVeLXSxmu5TVyj5d1We945Sf3ObqCiuN1WaXms6NXBeggggAACCCAQFCA8ciYggIARSNc7jx7v6Xm+41iqGpFBd9zdTeO0PIa7fcYdTKeC3VaV5J1Hz3c+VzsGzbFOobjdVmPekXS3PIYH60ncnTXeaRpYOVhn9F2ina4FYgfMITxyqSOAAAIIIIBA5QQIj5XzY20EckYg0Yiiwda58DyFCUZbjWg4l1HMaKtjVNSivWraI7ZWMjy650gMH4NrKoyf3TXlGA018Wirjm6rTXqocNtcMyps4jKG52r8yYymqhcHlo9Iax1HgpFoyw/Ttf0EZ9r2V8ar/00L9MYXZqqOwtpq2OIGTR5/mY4Jv2Rqj7ZKeMyZi5WCIIAAAgggUE0ChMdqgme3CCCAAAIIIIAAAggggEA2CRAeK1hb25eXqMPgv+tT1VPT6x/Ugz2OruCWWA0BBBBAAAEEEEAAAQQQyHyBHA2PO7Ru5u16sOAyTb+qSdxaeH3MX3TFwqM06tUH1NFMhZbyZ8dCdW06UutCk3If2XuJlnXYqJHjvtQF069S/D2mvIeEC+5Y9Ff96dYP1fmhlzT8lPRssyq3UmHnqjwoto0AAggggAACCCCAAAK+BKo3PJa9r0dKrtOdK7aobHeh6p3aTWPvGaTmh5RPYh34bJUmDhmmef/8SoHCejqxw3CVDj9fUYt4FPgdjW9VrNmNxum9++LPalbhULOkr04Y/L6usCbcbvSZtv6vgRqs3nPvFBEefZ3jLIwAAggg4CmQbJCpSrLFvOu8SPv2PK6SG2V1BHJBIMEgddVUvITzG1fBMTmnwKrYgHFVcFhsMgWB6guP/1umQS0G6dlvQ8134YOt10UL/3Gr7Aa17Yt1dZuhWuUaRrBO2xlaM6GlyiOmu6SphccUfDwX+WBCG7V9urkef3GYTgovwYAUFeVkPQQQQCCPBarzIbKy4dE50FSkEmNGRHaPaJzm6vaYbsfag9f8rOE91ygmyKa5FrJyc3FHya7y0lTnde9duHSHR/cgfOG9es6RnHAu6MpURpzvOMcggK7txx3RvTLHkVvrVl941BYtuGG6alx+oy5sfICKAqar6V0d1ePBXeqxeIVKjjfQOxZpUN+31XLYIJ17oulXumOd7urYQw9uba4Jb89Q27h1UbHw+M74Vipe1kaLV5TI2n28j+dyVRIeTXgODpGoBA2ouXVGhkvzzni1Kl6mNuFzITdLSakQQCDvBarzITI94VED/626rRJVZPWEx/IjijP9T96fewAQHsvPgSoJj4vMBNIAACAASURBVGvO0T6zhqhmglMtGDIbqtbTpQoPEJ6+MzP5d1zV7j99JcmkLVVjeIxlCCzvr9P6faw+Ly5Wn0PjMNkhbZN6JgwVofB4wEXqWeNFzd3wrXYXFOmIViN074QOOirUZPnBjE66dPp+unnjfbI6t9qhcPa20I4Pj7sP53JScyvcKbbbauDDxzR8yEQ9+5bpcmvaSWs3bKGbSieoQ/gAVKb3HynRgLte1ObvAyooOlgn95mhuX1OCrWqBsPjqjBF81A33GU36PShb6rDwmXBkG3/e7s63VhPr05frnfNcP0qOk6XTpujW886MLR2QBsf7KvBE1/VlrLdKqzdUL9vur++ef091bjoIS2xNxT9MS3DjQdpw5lX6KS3F2j5pwHJdBs+tds4TSk5S+GtmuZhvTJ1qG6bHdyuXYYudziWcTvb/178G/Vu962enLvWLnthvT+r5KFSdQvb2OFxtiK10XOxVsQcYyZdShwLAggg4EcgTqud2YTzl/kE08g4uoWabl+TG+mnAXP1s6KneQkFp89Dx+b4VT38YLVINRZ2NNPPmGV8/eqe/MEsuNdE4dF1fI4pdMyqrhaC6BbDeC0bsWVIFB4T7b882Nfc2lE/rrfKEtu9zt3C6W7VdB6nc/3oda31IvtxO/g5tVg2qUDcVulUp3Cq9LWX2rmVrCDxu37GXnP2soqaizn62jLlrqXh+nFbj/Kwl+DaS3Zc1t9TDeaJwluiayf8vRLpv1jBKbAqvP9wj4fI966U+No3KAm/3xJMg2bW26dBaXDKL1/f0anUlP9lqj88ln2t/2x4Xk8+/JCe/lddXXDHFJVEAk9sgV4fdaY6P9lEU1+botZx+62GwuPnh6p1n5vV8+IDtPX+2zVqwUYpqstrMAQ2Mg17g/S+9Y5kOKnYu/UKj6HtOpaLEx7jdLlVneYat8yEVZO+tsy4UOdNelfOjrv11GXhP3Trx1YYjcTGIEQ4PLoDtP3vV3V0l0maWXK2Guz9mZ67/hINXPVHzdgwQS3NqjvMe5otB6+MmUjcLqlnMAsG11f2a6xLBw9UF9OPePWEobp75Vc6ZtBzWtznCLOmCaTj26nT7I9cZSjQkT0f1TMlwRBc7hwV0ud+rz9dP0eTu56ourve1+QuxSr9pb9eXNxH3zlCfLDo3sfo/4RnDQQQQCCzBBK1PLofAOOEsNBDTEFxI9XqGf0rvzs0uf8d2l79ZioYVqraukffmfCplLt0VjY8pnJ8paoxean58dXUWuiBfS93S2ecbqvl9Rw/PDofqN11Efq3CeN7dV5qWldDQT7qATD2wdNapvyY3X/3flAN7edwUw/NTD0kbMXNrLM3248mfsCp6msv+bmVzNbdUuj8d7Lw6DqXw0ExEkyc53Hcay/BQVY2PCa7dqzy/tQg3P083jWe/Dsqbnh0fa/ElMf++2bVaHKOikYOkewWVNPOEv6+Cv098m8Fj/HnzqGeGu6/xywfxA1+RzVTYYP+qp0h74xXc3iMCmNmYusDDjpCza69R2M6HOX5PuP2V25Wl6uf0xFjl5lunOVtX7Hnrle31YDW3fwXdX28oUauna/OphesO9Ssu7mpun5wjV5b2E2JBl9NpdvqysGN1XdpXbW942GNubCB3S33rfnXqvu4dfpVl4X6x60mjX38htb836E68cj6qmtSVtlW0/J29mTtH+6mumOeOp9WqqPnr9Xtp0eV0jM8uiYAdy2z+OpjNXTTRbrv4dvNgEQmTL5Vqu4dZ6to0COaeOlvVd86AMcnGB43OYLlds3r3ExjPr40+F7qpzNV3GKitp10nUof6KPTzTbKtr6gsb3669GtTeI6e/m568JUlpp2/UDXvLZQ3fyMhJvs25a/I4AAAhklkCA8eoQiz65loQc/97tEyR/43A+Yfrt3ereexhxHvJZHOww+r4Lww5apl8RdyBKH5/jd3uKUK+n+Y9dz+yc+Xo+69QzAof0oqtUno87R3D2YuAGnyq+95OdWYvVkXcGThEePoJK422qy/cUerWfPAI9Ws4Q/qJwR9W5yvB+PQrv2Pv6KhscUrl23ofv44oTBsFRMS3Cc78lg63JmDShU7eFx1qg1+nPJlTpGW/XC2F7q/+h2nTtjjSa0jA4zAX0472pdNn6Tzhz/qMadf4h3t06ZVr33rNatOO882oHkVV0c6vLqDix2wFLiEVqtSk8eHj/QhDZtNe/YqXptSuuoIBzQY1eepOFlw0MBNaDP/jlfE8bO1+otX+pr033T+tjdYIP9aL3f+6tweLxc85+8KRjy3p+sLsWl+l8vM83IYK85Kr3Cowmd8zrrtDF1gs72qLNb1Xf5M+pnNUSGPxvHqsUlT+msUOj1bHl0vVsaEx6r5B3S3L0BUjIEEMhWgfjh0euhyvNhN17LW5KHrXC3r/J3FisWHiv8zqPXw5XXr/1WV62oT8xgNxVteXSNBlu+i/CDWmzdeD2gxu+26vXA7fUwW53vvWbrdZOe444XHqv+2kvt3IpfymRhrvLh0Sv8+RloqnItjylcO17Xb5zBuhJ9RyUKr3ZXftcn8uOY+3vH4/s2xjDSa8Hru9b7eyA2ZKbn3K/MVqo5PLoPfZ1ubtpVT/9phjaY0VTtT+AzPTu0k0r+0Uglj9xX/k6c/UfXO4HJwqMdalbovAwJj1rYVU1HvqMmvcZryOUnquFBa3T9SVED5KQxPAY2jle7TrP1UXQf2YLjNeg5835pdPCLVIl3eAw8dqVOGr434bEyVx3rIoAAAhGBdLU8KnbAiUwPj8la/mKOv+pbHp0nZgUe8B2BOIXWC3uHhMfq+kJIT8tjRa69CpxbDqQqDo+pXnsJKq5y4THZtZNqy20aWx7dZU0hPDpWcZn6anmMfle1ui6WqP1WY3j8WG+s+T8deuKRwS6TplvnR6vuUu/+j+q7S+ZrrdVPc/srGtXtOj17cH/NLzWtkykPw+Td8rhlaju1nrF/3O6UdsvjN0P16qIrVXfHDu2qW9dz5KfkLY9SuNtqy1tmaNwl5r0+xXZbtZdZeYpGLb1Xlx2yS19vmK5ul96vIvP+4qIrTbdcOzw+odNmr9adZ+3Sjh17q65lVYGWx48X91OvsRsU+NVOff7FT6p58MnqkvD9Uq/wGNDy/qep3/qLXN1We+rOSf10doOi9HVbtcv4jYa+ukhX1t2hHbvqqm7K9Z8BVxaHgAACCKQkkCg4+HvvKrbbpvcDVvl7Qu4HqzgtjzHvQ4ULlvzBLLhkvAdd9/5c/3Y/wIb+HfNOZkVbHkOhLXB4+SAi1gNvmSaF5qNM/oDvfO/KFNXVmprsva2gD+ExpUulChZK1zuP/q+95OeWXdxI61qcgZqiBrixy7L1Gu0/sn3knCo/t93v67r/7eo6neq1l+D4KhceY7uwO6+lON8dMV2/k39Hxet6HvP/VlnHmvEow6PHJgmPzvoor8vIO9u+3nmMGuioCq4Dv5usvvD4wQS1aXuvPnIfccGR6v34Mg22Bv+0A4Rr0Jjw8gUtE0zXEQqPRVfpiQUDdGLdXdr6wlj1MsH0exNMXzLB1GsglyV9T9DgleGmuSSjrbqn9HB3s9xi3gc8b6LecU1jGT1gzg675XFd+WAzhzc3baertGpbaN+FLqOEA+YkfufRWTYLsUBF+5p3TEtKNcHzHdNgeHzz7Du06O6LzSA84fC7Xr8dvloLu1nvnAZMSD5DfZe4JuI02046YE6ybqt2l9iVERsGzPF7abM8Aghki4C7a1PFRlstL62za1noIStqtNVaw9qqqOFxkVCXtNtqRcNjvG6hjhEHXcfnGo3QYWO6pBUePlcBM+ppIqNKjbZqDUwx8FzVbNXeTC+Q7AH/Xf20+X39OGC4Y9A473nswl1v44+2Wl6DmfV+U7ZcRxU6Tvc5WqHRVity7SU7t0LbTBDOrCViRlud3F8F5tq2p8ZwjQhb0GS1OU+jQojj74epRv1PzEjN5e/dpnTtVSI8eo94m2DEUfdIx67jLyxuqMDi1TEjmjr349y+xZToveWY7+biMSps0d58f5oVk4XHzU/pp7HDg6NYhz7eXe7NMdufRGUPbyH2+Ct03ldypeoLjyZ4fPjcRI2Z8jet3fy9AmYqjYOPa60B94wpn8oiUXjUKRoedzAVr1FRC3XoheO1cMz5OiT0OqX7PbvAxpnq0Xua/vmVNXXEibpqyhMa0CRWOJWWR2sta6qOwdfcoRfD5Tu5i0bfM8gMWBN+n3O7lpd0VskzW/RTnT/pRtMtt+2/Bqv9iLd14SJrrsvyv5eZNtAjWo/W3EntdGgFWh7LNtyrv149QW985y5PaHRXM36P8+PuEmz+WrCfGvedqbn9To5qkTVTdYzvr5sWvKEvQlOAtLhhssZfdkxkmQq98xjYqJk9emvaP800J2aKkBOvmqInvCqjkhcAqyOAAAIIIIAAAggggEBqAtUYHlM7wIotFdCOz3eqsL7pRvnpN2aIW9Mfff9DdUC+dnt8fZTO7Pyy2jzyjG45OYxgjD66Xz3bTNbPN7yix3sd5BkeN13+gOb3OtJKjqp9UHBUWD4IIIAAAggggAACCCCQfwI5Gh7zryITlthuqXxdpw+dpcmdG9shOrDjI/1z3s3qN/Xf+vOMDWZ0W/cWvAfMQRYBBBBAAAEEEEAAAQTyU4DwmA/1vmOJ+rYcrJXuVxNN2euY9yiXmXlBYmfNJDzmw6mRGWVM/kJ7qscZ8/7H06Uqcr3T4meo8VT3y3IIIIAAAggggEA+CBAe86GWTRkDn63SxCEjtOCNL2ReTVRh7YZq2uNGje7TPPIOqJOC8Jgnp0aomNU52l+6wmOy7SQb2rxyNZ7qyHKV2wtrI4AAAggggAAC1SdAeKw+e/aMQAYJEB4rWxmEx8oKsj4CCCCAAAIIZLoA4THTa4jjQ6BKBUJzPXnswzHcfHiofnu5BMNJm2HO92lQqh8Wm2HpzbD6+4TnQ0rYdTTcYrhINRZ2DA5rHb1usvI7ji16Yfdw94laHp0O7q6tiaZS8B5u3ByHa8qBZMXg7wgggAACCCCAQKYLEB4zvYY4PgT2iECClkdfE9maOdIa9FftntYccqFPnMmGIxPlhicQr99MBcNKVVtmIt4BcxUzEXhSh4p2W00yEbt9/JtU03p/0joGt0fouGh5TFpBLIAAAggggAACWS5AeMzyCuTwEUiPQPzwaLesRU8sHA57xYu0b1RIDLbAxU5unWgC3uCxu8NbaNLww6MmM06pkBUMj+6Jfs2+7LJsi2o5jd6/OwwTHlOqHRZCAAEEEEAAgewXIDxmfx1SAgTSIBAvPHoFOe9lY0Nm8LBSDY8a+G/VbWWtsWfDo9fxuVsRvbqmOrr1hsu55pzyrrppqBU2gQACCCCAAAIIZJIA4TGTaoNjQaDaBNLU8uhoocyO8BjshirVCndLNYftaHl0d1Ol5bHazlJ2jAACCCCAAALVK0B4rF5/9o5Ahgik651Hj66mMWHL6l5aqhqTl8rMGGM+7u6mcVoewwPjxB1Mp4LdVmO6zbq60Xq+87latDxmyKnLYSCAAAIIIIDAHhMgPO4xanaEQGYLJBpRNNg6tzpUgASjrUaK6FxGMaOtjlFRi/aqmY7w6Np25BDCo50m+7u9QuLRVh3dVpv0UOG2uWZU2MRlZLTVzD7fOToEEEAAAQQQ8C9AePRvxhoIIIAAAggggAACCCCAQN4JEB7zrsopMAIIIIAAAggggAACCCDgX4Dw6N+MNRBAAAEEEEAAAQQQQACBvBMgPOZdlVNgBBBAAAEEEEAAAQQQQMC/AOHRvxlrIIAAAggggAACCCCAAAJ5J0B4zLsqp8AIIIAAAggggAACCCCAgH8BwqN/M9ZAAAEEEEAAAQQQQAABBPJOgPCYd1VOgRFAAAEEEEAAAQQQQAAB/wKER/9mrIEAAggggAACCCCAAAII5J0A4THvqpwCI4AAAggggAACCCCAAAL+BQiP/s1YAwEEEEAAAQQQQAABBBDIOwHCY95VOQVGAAEEEEAAAQQQQAABBPwLEB79m7EGAggggAACCCCAAAIIIJB3AoTHvKtyCowAAggggAACCCCAAAII+BcgPPo3Yw0EEEAAAQQQQAABBBBAIO8ECI95V+UUGAEEEEAAAQQQQAABBBDwL0B49G/GGggggAACCCCAAAIIIIBA3gkQHvOuyikwAggggAACCCCAAAIIIOBfgPDo34w1EEAAAQQQQAABBBBAAIG8EyA85l2VU2AEEEAAAQQQQAABBBBAwL8A4dG/GWsggAACCCCAAAIIIIAAAnknQHjMuyqnwAgggAACCCCAAAIIIICAfwHCo38z1kAAAQQQQAABBBBAAAEE8k6A8Jh3VU6BEUAAAQQQQAABBBBAAAH/AoRH/2asgQACCCCAAAIIIIAAAgjknQDhMe+qnAIjgAACCCCAAAIIIIAAAv4FCI/+zVgDAQQQQAABBBBAAAEEEMg7AcJj3lU5BUYAAQQQQAABBBBAAAEE/AsQHv2bsQYCCCCAAAIIIIAAAgggkHcChMe8q3IKjAACCCCAAAIIIIAAAgj4FyA8+jdjDQQQQAABBBBAAAEEEEAg7wQIj3lX5RQYAQQQQAABBBBAAAEEEPAvQHj0b8YaCCCAAAIIIIAAAggggEDeCRAe867KKTACCCCAAAIIIIAAAggg4F+A8OjfjDUQQAABBBBAAAEEEEAAgbwTIDzmXZVTYAQQQAABBBBAAAEEEEDAvwDh0b8ZayCAAAIIIIAAAggggAACeSdAeMy7KqfACCCAAAIIIIAAAggggIB/AcKjfzPWQAABBBBAAAEEEEAAAQTyToDwmHdVToERQAABBBBAAAEEEEAAAf8ChEf/ZqyBAAIIIIAAAggggAACCOSdAOEx76qcAiOAAAIIIIAAAggggAAC/gUIj/7NWAMBBBBAAAEEEEAAAQQQyDsBwmPeVTkFRgABBBBAAAEEEEAAAQT8CxAe/ZuxBgIIIIAAAggggAACCCCQdwIVDo/f//Bj3mFRYAQQQAABBBBAAAEEEEAgHwRq71MrppiEx3yoecqIAAIIIIAAAggggAACCPgQIDz6wGJRBBBAAAEEEEAAAQQQQCBfBQiP+VrzlBsBBBBAAAEEEEAAAQQQ8CFAePSBxaIIIIAAAggggAACCCCAQL4KEB7zteYpNwIIIIAAAggggAACCCDgQ4Dw6AOLRRFAAAEEEEAAAQQQQACBfBUgPOZrzVNuBBBAAAEEEEAAAQQQQMCHAOHRBxaLIoAAAggggAACCCCAAAL5KkB4zNeap9wIIIAAAggggAACCCCAgA8BwqMPLBZFAAEEEEAAAQQQQAABBPJVgPCYrzVPuRFAAAEEEEAAAQQQQAABHwKERx9YLIoAAggggAACCCCAAAII5KsA4TFfa55yI4AAAggggAACCCCAAAI+BAiPPrBYFAEEEEAAAQQQQAABBBDIVwHCY77WPOVGAAEEEEAAAQQQQAABBHwIEB59YLEoAggggAACCCCAAAIIIJCvAoTHfK15yo0AAggggAACCCCAAAII+BAgPPrAYlEEEEAAAQQQQAABBBBAIF8FCI/5WvOUGwEEEEAAAQQQQAABBBDwIUB49IHFogjkqoDXF0GuljXXyvX9Dz/mWpEoDwIIIFDlAtz3qpyYHVSjQFU+GxAeq7Fi2TUCmSLATTRTasL/cVTlDcL/0bAGAgggkB0C3Peyo544yooJVOWzAeGxYnXCWgjklAA30eytzqq8QWSvCkeOAAIIJBbgvscZkssCVflsQHjM5TOHsiGQogA30RShMnCxqrxBZGBxOSQEEEAgLQLc99LCyEYyVKAqnw0Ijxla6RwWAntSIPNuok9pxwXDpYH/Vt1WlZMoG/k7/bg+vI1mqvV0qYo236PvBszVz6H/rlG8SPv2PK5yO6qmtavyBlFNRWK3CCCAQJULZN59711936ujdp+ROfcj+/65rYf2mTVENau8Riq/g2TH6/k8UPndZuQWqvLZgPCYkVXOQSGwZwW8b6LVeSNLV3hMtp3g33+povD40+xz9cOacxLeeMtvZqFg6676SNA9TIWTl6p2Q+cCVXmD2LNnIXtDAAEE9pxAvPCYyvd21Rxldd5zvUuULIz5dXCGN2vtOPc9vxsOLZ/q8dp1vLhh8MfkVPe14hp9M2m199L1My9gV+WzAeEx1ZOG5RDIYQHCY9X80pvsIST5jS70MKHD9PPn8hUev14zQ7fe+aD+39Yy7S4o0kG/76Rb7xqsMw4IncgrhqnFLTvU6YaaWnbXSzKLaZ/zJ+jl0X/J4TOdoiGAAAJBAcJj8jMh+T0q+Tail3BvLxgm0xcgUz3eCoXHqIJUdn1/ahVbmvBYMTfWQgCBFAWcN9Fga9xuj3ULoruROn6Fc7aKBb9YPwluockY7dOgNPjv6F/nEnYdDbcYLlKNhR0VMMHJsW6ycsX9hdB9k0rU8uh0cHdtdZTRHE+0Teyvq6EDNhb7j2xv/yNZsHQs03mTfpi0OeXwGHh7gjp1f1Afuyqx4DfdNXfRYJ1QaLb+zHVqcstqFRx8rkY/OFqtD/han3x9gA6rb/2RDwIIIJDbAu7wmMr3tpTgvuC4p5l7zeRG+sl+PSL6/hj8QdC+p1kfR4tVectjza0dQ69b+A9W8btmxt7v7GVVfl9S9L3T3K9qabiz26rr3ur3lY+YcBcy2yvq2cJ5b3WWP2Z9+3gUaUEM/73WGc/rx9AziOO5JcSeKPwl2n/4ikgYHhM8GwV9zfFGzg0p2bOF9QwVfm6w959o+1GXLOExt7+/KB0C1S7gu+XR/vKKCjPuf4dKFLwxNVNhg/6qHf1OofuGEXMDCd3k6jdTwbBS1VbwHUX57l5a0W6r7pus69/28W5SzXCXlzjljx8Qgw8JP5/RQ78sDr976eqWau/jeRVYXVU/dHknvEH8V3M6n6vpn5ygqyfepyub1FFh2Ta9dM81KnlimxoPW6X7OtQJhcfN6vLQ3zXETpN8EEAAgfwR8N/ymOS+EKYLBYSC4kaq1TP6XcFQcDw8HAa8/73bhM29Oi817/uHgqo7PCSoIs+Wvcg7i8nCo2t/4ZASCbjW30tVI/z6hEfwS3b2xLYMOo/JHcrc/04pPJoxDsKBLLh+bK+duOHPFUbj3cPjrh9937ZeMXFtL/jvzarR5BwVjRwiuY8v5lki9KzQOTT+Q4rPXlY9EB6TnY38HQEEKiXgNzzG/FoZ+jXW/e5gvC4pybt8uG9y7ptsqsWtYHh0f+Gb3SXsDhPnJho3PIZ/oY7clEPlU/i9CVd544RT7xvEUg06bag+6fW0Hu39myiot3VP28569ozZWjHi1FB4lEa9Pk3tUuVkOQQQQCBHBHyHx1TvC6HQFdPilTRsxd7nUu2GGaySZO/wJwmPHveZxPtPtr/YEyVxeDSBxz1gkMsspfDoGODH+xnA+xnE453TRPd2j3cmkz4buY3d209wr7c0k24/ipzwmCNfVBQDgUwV8BcevYKc94v+sV90QYFUw2P5aKt7Njx6HZ87CHp1cXI/LMQNj143iOj/s1say7vihH+tTG3AHMJjpl5nHBcCCGSOgN/wmMp9wS6dR8i0/z/F8Bg92mqmhUf36xpWsfx0XU0cHt/3GMDOGf4qGh7dP2wnCo+RLsVRp6rnvT1eeIyM7l6+gYiR+9xI2m3XbCPS8pz6s5e1Z8Jj5nzXcCQI5KSAv/CY+q9f2RoevW7+jptWsl8PQ2dJ4pbHUJfU8OipUdssmBc9vYjzlHPfxGJvEOXdVruNuktXtzhcRXG7rdLymJMXNIVCAIGkAn7DY9L7QniPuRoe471e4uN1ksTvPCZv+atoeHRP+5Vyy2OcsyjeD+Dxnnkim0khPDp26dXyGv2OaoLWZsJj0q8AFkAAgcoI+A2PMS1hCd95dL3s7fkLrOtditAXYtKWx5h3MtwKFey2GvOF7Oqe4/negRl8xjUvZbJ3HgPud18i3VZd5fDVbVUKrBqqswct1feuzcQOmEN4rMx1w7oIIJC9Ar7DY7L7QrLwKO9uqT81CI/2HRuePFseIwPzxA6m417evgdtvSY04Ip7/+53Kt3/dr1OEWesgpixCHwcn/vVlmTvPHq+Axk1Wqv39lJ/5zEmFFplGSsVuea5TPzOZPTgdpbpUhU6xkeI6lXkMnXWlzmhknVr9flskK6rlak60iXJdhDIYoGEN9HwqKmmfBUabTXi4jUgTHiwGKvryxgVtWivmnZLnDv0xem2Gi88ukZyjRxCuPtHsr/bKyQebdXRbbVJDxVum2tG0EtcRueoaYlG3atceLTW/nrNBJWMfFRvfmmm6iisrSObDdS42zvq6PCkVvZoq4TH6r5sM2+i8uoWYf/pFKjK1od0Hmd1bCvutee+PzgGrEl1tNXyEjm7dcZ+79ca1lZFDY8zK1Q+PFp7db5SYY362l8FZvs1rT+6RoQtaLLajKwe9QOv4++HqUb9T8xoseVzGDq6rZp39gsPN/c9003T8WyQLDw6unXGBuDEo506/QqaNNNus73wfI3B8GyO+3PruIOf5COhJxgt3lrfPJsUmmeToqg5llMfbdV6tumhmkcOUVErs7EkLY8/bX5KP40dXj4ar1klpltw+LnHLp33/M/WX6ry2ic8Vsc3FvtEIMMEeIDNsArxcThVeYPwcRgsWkEBrr0KwrFaSgJ8P8Rn4tpL6RRioSwVqMprn/CYxpPi65XD1e2mZ/RfHajT+t+vmZc3SuPW2RQCVSfATbTqbKt6y1V5g6jqY2f78ScqxwaBdAjw/UB4TMd5xDayT6Aqr/08Co87tX72HVpQ0FH39Dg57lnwr7va6KrHjtSwF+5VsZkKLeXPzkd1dcsxWh+alPs3Vz6hJ4vf1h0Tv9J59/xVjVPeUMUW3Plkb50z9iN1mLVM1/+hYtvYk2tV2HlPHmQe7YvwmL2VOd9VnwAAIABJREFUXZU3iOxVyZ4j59rLnrrKxiPl+4HwmI3nLcdceYGqvPYzODyW6ZN1i3Tv5HlaefAAvTLxAk/JncsGqN1NL6lut0f19MBjE2i/p8kXdNK8o0Zr/RTvbVkrVzjUmOM4/ab/6FJrwu2jPtcnZYfrsFf33DtFhMfKX2j5vAUeYLO39qvyBpG9Ktlz5Jl37SUbZKq6bZPNLed8J835nnF1H/ue3z/fD4THPX/WscdMEKjKaz8zw+PXr+rOq/tr0eZA0P+w7lrw9GDFRMPASxrWarBeKNut+penJzxWtMI3T2uvjs+dpflLSnRCeCMMSFFRTtbbwwKZ9wC7hwGyeHdVeYPIYpasOXTfIx1XeckqGR49BqPyMw9c8uIlC4/hLVRsbliv+VvDW0xvOZKXNB1L8P1AeEzHecQ2sk+gKq/9zAuPO5fqhvbDtPK7Gvr1n7roym7t1eJ3R2v/8AiBkfoL6OWbWuim79rrnK0Pa32rqgmP7006X11WnO0dXqPOJc/lqiQ8Pq0Bp4yQbvuXJrfLvpO5Ukf83gRd0PkFnb3wWQ1I1MhcqZ2wMgIIILDnBHI1PO4VnrYmFCZjhvOvMHHVhsfyw6pY+Kxwsapoxap8gKyiQ2azCCCQ4QIZFh6DgXDQy/XUuNEPeu+dL1RW40CdfOVETe39B0Xnx8D629S2/6e69ulB+qh7J72Qanjcv7261Vilh9/8TrsLitSg+VBNvuMiHVEYrKnNs65Qj/v3U8n/myYrm9mhcN4noWo8TN3iBBfnctJZVrhTbLfVwJYndfuwqVr+znYFVKh9jvyzhkwcpwvDB6AyffDYcA2d/LI++iGggqKD9Psrp2hGzxPM0tYnGB5fCZ9YZ4W64a4Ypha3bFTxnKeCwcr+99e6aNCBWnf/Cr1vhutX0bG6+O6ZuvGMA0JrB/T2ggEaNn2ttprW28J9jtKJp++nbzf8RzUumKNFMd2AX9BNZ5bo300v0/HvPqqV/zUtw4WmfjqP1viBf1J4q2aSAK25d4TGzQtu1y5Dx9scy7id7X8/00BXnvednn5onV32wgPP0oBZk9Q5bGOHxwf1aejoD03aVTnDrz4ODwEE8l7AeRN2dbmM0nHOIZrqdAHWMP2N9NMAa0qc6CHdE00TE255XKQaCzsGh4w3Q/Lv45rnLG7FxUwkHpo6YFv0NhJNgxMbDp0Tb4f/PkYFa8JD2scO9x+e9qB8LtXoI3aV3zEVQ3i5ROEx8fqR+V07b9IPk1bbG3TPAetu4XS3aiaariB6XWu9mls76kdr+gOPchAe8/4rBgAE0i6QWeExYILRn27Xxjo19O23JuxEPkUmjD1vWtpCI9gE/qnR51+n/177rKYXf2m/y5hyePzi12p55Y3q1v4AbZt7h+5c9LbUZrJeuOMvdjgLhsCGGvV6P22y3pEM50b7WLzCY+hdSsdyccLj16Z8xSb4uWfurt1MoxabsGrS19ZZnXRJ6Xtm3p3oz4Hq+MBK3bjVCqPBG1HkEw6Pdivn5vJwa/97rRp2vEuTBrbQYXt/rueHd9aN/zhNE/8xTn82Gwi/L+o+HGvb3sEsGFzX7Pt7XXzddepoRgF6ddoITV21XUdfu1gLev7GrGkC6aRL1GPeFlcZCvSbbg/p0YHBEFzuHBXSH/5ef+x/r8Zddrzq7PqPCcyXatYv1+iZhb20wxHig6UnPKb9+4ANIoDAHhbw3/LoDldxWuJC84kVFDdSrZ5DgnO82R93KPKeOPyX+s1UMKxUtWUmyTbhM+WWQ4/w6JwTLdnxpxYed0fCsGsi87jlLK9YZxiNnVvP2yn19YPh0czPdvg12ndk+9C8e+UBN3aOOKvMpaoxealqm7nkkk2UHn18uw839dTM1JM1h5zHh/C4hy9ododAHghkVni0W5Ye0q7mAzVqSEedfniRyrYt0o1dRuuVw/rZIeLXVji5+0JdtfkqPV16kWntCoa3lMOjY8CcgNaPbqOr/36Ublo5Wx1MNnWHmvWjm+vqTVfrpQcuV6LBV1PptvryTU016IU6ajPyAd3c9nAVBXbqnUcGqs/Ef+pXHR/U8ptMGtv2L637v1/r+N8crDomZZVtu0+920/X/uFuqjsf1pXN71PD+1dpRJOoM9QzPLomAHct80z/P+jWD9tr8qxbdFZ9EybfuU99uj2oWtfO0x2XNNLB1gE4PsHwuNnR4ve1Fv71bN29rYPmPD9Mf/jvLHVpO1WfnNBHE2b0UhOzjbJtL+qe64boyU9Ojuvs5eeuC5nW5lZXbVKvVQ+qs5+RcPPgQqaICCCQnQK+w6N7kmlT7ODE2K7WwdBE0u4Wr/Ak4ZFupTFs7vDms/tmsvCY9PhTC4+/mBa3fXtaE6ubj8c247Y82sf3vApCQc1a3XvC7zjlTmH9mO3Zx7dZhXHCobMKPMKsh2mkfFETuBMes/M7gKNGINsEMjA8xr7TZoeIp5rqvpW36Pdvj9fF3d9Sl2UmQNj9JN3h0dWtU6ZV73WrdSvOaKt2IFmr9qHuqO7AYgcsJR6h1T4Kr3cjHe88btK04ou18LcT9NJdrUJdUK01A/r7NafqtrKSUEAN6PM3Fmr63Qv06sdf6RvTfdP62N1g7X60cd77q3B4vEz3Lbg+GPI+mK5ene/T/7qbaUau85qj0is8mtC5sLv+cledoLM96uw29fz74+rdIOpyMPXW7oolahoKvZ4tj653S2PCY5W8Q5ptlyzHiwACuSTgNzx6BZ1IN8norqWegcrIeQaRaFH3gDnpDY8FVqvc4oaq9XRp5FUU5/FXNDyWh7NgaRKFP6sbr/vj7vpa8fVj6sMVHq09x++26tWS7DWIUbwWU2e5aHnMpW8LyoJAZghkVnjcPEUXdVig3969WuNblrd6vX33uer6Ykszkum1eq9PM41e5+zUWU5pdSvtq82do94JTBYe7VDzks7JkPCox3qq1dj31Lj7aPXrdIKOrPf/NOKPUQPkpDE8Bt6eoE7dH9TH0ZwFx+raJx7VldHBLwLsHR4Di/uo6W17Ex4z45rmKBBAIIsE/IZHr1a2+C2PcoQ0m6UawqPj+DKw5dH7dEm95dG9firh0bGOI1z6a3ncfUZUC6xHQQiPWfRlwKEikCUCmRUetUF3ntNdi/7vVA2cM01dj95bO9fP0jWDZuq9xqP1DzM/4zKrJTAyWoxbOf6ANuEWSvc8j1vvvUTFs/aL253Sbnn8doien9dNdXbu1K46dRwD94SPIHnLo8xgQMFuq38eOkW3XWje61Nst1V7mZcba9gTU3VJ/V365s171bvHA6o16EXN62qaWu3w+Hc1mf6CRp6xSzt37q06VvfSCrQ8bntmsK67+03t+tX3+uLLn1TzoD+o48h7NCAyoI7b1ys8BrTyhma6YUN7V7fV7hp1Z1/9xe56nKZuq3YZv9HAFx5W1zo7tXNXHdWJGYU3S648DhMBBBAwAr7Do5K9Mxhijdfy6NEiZ4W7nxqEQ0iKLY+hbrExg+m4w2nMaKvJjt/7HczdkcFgQoPtRP7t953H2FBohb0yTSrvBmsTxmtxTb5+svDo9Da7StKtNVG3WsIjXyMIILCnBTIsPJpxOk1AuMgMCuMYxKXgCHV78HENOMH9Dp7F5fOdx1p/1UNzrtXxdXbpkxfv0nUlj+uHC2dryYhTPQdyWTboFA1bFW6aSzLaqntKD3c3y63mfcCLp+o9d8Np1IA5O+2Wx3+WDzZzWDOdpdV65ZPQvgut1tnZ+jh8piQcMCfxO4/OslkbLFBR3d/ojIGTNLb4yKiuteGdBcPjxha3ad7oC80gPOHw+4Ya3fCC5tj9iEMj5i7b6TqXUxgwJ1m3VbtL7EsRGwbMSd/XBfM8ps8y3Vui5SDdopm1vXjXnnO0TfdonamOtlpeVudonrGjrdYa1lZFDa13CNMTHqO7hcbOj5hotFVzCI65Is2AME1Wm+/9MdrfDD4TPr5f6h+mnz8Pj1QX3eU0zoi1jhFjXeU3PZQKB56rmq3aJxhYKPq8Sbx+4vD4rn7a/L5+HDDcMaic+93UVEdbLT8qrxFnJb4/4l/vlbnv4ZpZ36MczZ4VyLjwaIWPLYuHasBdLwWnjzjwFHW+LVFrmM/w6BgVtVC/bjtGs29po/qhXOp+zy7w9iz1HTBTb2y3po44Xt3vekR9zbg27k8qLY/WOtZUHcMG3a3VH32vgJkq5KDfd9KIsf3MgDXhYPy1Vt7cXbcs/Vg/1TatkHOnqc2/h+qy299V23nW/Iblfy8zbaANWt6qGePO068r0PJY9uZsXdN/it7c4S5NaHTXP7j/3/0+qZU399Xvek3VDMdUKmaqjklDNGrRv/RlaAqQZgPu0m0dfhtpta3QO4+BtzWnz3W67w0zzYmZIuT4Hvfoob4n79krJkf3VpmbaI6SZEyxeEjJmKqokgPh2qsSVjYaEuD7g/DIxYBAugUyMDymu4jh7QW084vvtffBtfTjf7/Vj+a/a+33a+2fr90e/zVWrf/6ilrNfVxDfx9GMEYfP6Bri6frlwErNL97PVdlhLqtdrpX93U/wkqOql0vOCosn+wW4AE2c+uPh7/MrZt0HBnXXjoU2UY8Ab4/CI9cHQikWyCPwmO66bJ8e3ZL5QY1GVSqcR1+b4fowM4temPBbbrh3rd05sS1GtvcXUbvAXOyXILDNwI8wGbuacDDX+bWTTqOjGsvHYpsg/Do/xyozLXH97J/b9bIHQHCY+7Upb+S7FyqQW2H6mXHy6XBTdQ271E+aQYnsmdCcXwIj/6Qs2fpytxEq6aUXkPTV2ZPPqcbSLarZCNWOt7ZMpOFR89Jl2zbrr/zkOITLMsWz7xrL8sAOdyEAnx/xOepzLWHKxdePgsQHvO49gOfr1bpsFFa9OaXMq8mqnCfo3TaFUM04spmkXdACY/5cYL4H/Gxql2yPDxGeLzmbPNnx0OKP69sW7oyD7DZVlaOd88L8P1BeNzzZx17zHUBwmOu1zDlQyAFAcJjCkjRiyRreSQ8+gRlcQQQQGDPClTmhxtC+Z6tK/aWWQKEx8yqD44GgWoRcH4RxBnq3hyZYzj58Dxv9hEfpsLJS1W7YfDwHcPMm/nY9mlQqh8Wm6GOo4fLT9i1M9zyuEg1FnZU4HOzUcdQ+8mZoo+hRvEYFawZrsDh4eH+rfWTT3ew18B/q24ra1nXxN2R8DhGmhQact/z+BK1PLqG+4/MW+csGw8pyeuaJRBAAAG/AjEPwK4pYmpNbqSfBszVz677m7Ufvpf9arN8LgkQHnOpNikLAhUU8N3y6JrU2j3JdfgwrMmwf7TmUGvQX7V7WnPIhT5xJhIvD2uh0FXfzPE2rFS1dY++MzdxpfruoGti8kiQdE00/ktke66QF9Oy6B0efzZlq/V0qZmCxj1xebig8cNj0CYcZl3bj6pHHlIqeFKzGgIIIJBAIG7Lo31/Mz+WFjdSrZ5Doub+LN8Y38ucWvksQHjM59qn7AiEBPyGR2fwsTbiHZLs5dbHTl4dDHMNQ8HLqxrc2/M34E3s9l3rhx4OgsEv+LGPdVsP7TPLPCykGB7Lw26otXXNOcH1I0WKEx7t7T+vgpjW2lgTHlK4TBFAAIH0CyQOj6udPW1cu+d7Of31wRazR4DwmD11xZEiUGUC/sKjV5DzbjmLDZnBIqQaHuXqNursdhqfI1l49Nq//X/h8FfR8BgTiBOFR6s7lPsTG7R5SKmy054NI4BAHgska3mM/nHRzcT3ch6fOBTdc3q3vX4xn4rYcDFVRI11EKh+AX/hMdRKF+lyaR1/gpZHx3KZER6D3WzlaPms7pbHeGcB36vVf31wBAggkHsChMfcq1NKtGcEaHncM87sBYGMFvAbHmPecXS/AxkqbbyWR8W07Fnhs1Q1It043VN1xOm2Gh60xz1Yjeudx8jgOKm+8+gOw+7tJd1+uLrjvfMYWx6r5bNMk7Rv9LuhZjOEx4y+dDg4BBDIUgHCY5ZWHIdd7QKEx2qvAg4AgeoXiHcTdYyaag6zQqOtRornHJE1HCDDXTetEVGLWrRXTXvE1kqGR2sTrtFga9T/RD+nOtqqe31r4B6t1i9nLAqGu3B4rH+Yfv7cjCJrfRKMJBshcIyo6hpt1RpYaOC5qtnKGESdEoTH6r8+OAIEEMg9gcSjrZaXt4bHQG18L+fe+UCJUhcgPKZuxZII5KxAZea7ylmUDCkYDykZUhEcBgII5JRAZe57fC/n1KlAYXwKEB59grE4ArkoUJmbaC56ZFKZeEjJpNrgWBBAIFcEKnPf43s5V84CylERAcJjRdRYB4EcE6jMTTTHKDKuODykZFyVcEAIIJADApW57/G9nAMnAEWosADhscJ0rIhA7ghU5iaaOwqZWRIeUjKzXjgqBBDIboHK3Pf4Xs7uuufoKydAeKycH2sjkBMClbmJ5gRABheCh5QMrhwODQEEslagMvc9vpeztto58DQIEB7TgMgmEEAAAQQQQAABBBBAAIFcFyA85noNUz4EEEAAAQQQQAABBBBAIA0ChMc0ILIJBBBAAAEEEEAAAQQQQCDXBQiPuV7DlA8BBBBAAAEEEEAAAQQQSIMA4TENiGwCAQQQQAABBBBAAAEEEMh1AcJjrtcw5UMAAQQQQAABBBBAAAEE0iBAeEwDIptAAAEEEEAAAQQQQAABBHJdgPCY6zVM+RBAAAEEEEAAAQQQQACBNAgQHtOAyCYQQAABBBBAAAEEEEAAgVwXIDzmeg1TPgQQQAABBBBAAAEEEEAgDQKExzQgsgkEEEAAAQQQQAABBBBAINcFCI+5XsOUDwEEEEAAAQQQQAABBBBIgwDhMQ2IbAIBBBBAAAEEEEAAAQQQyHUBwmOu1zDlQwABBBBAAAEEEEAAAQTSIEB4TAMim0AAAQQQQAABBBBAAAEEcl2A8JjrNUz5EEAAAQQQQAABBBBAAIE0CBAe04DIJhBAAAEEEEAAAQQQQACBXBcgPOZ6DVM+BBBAAAEEEEAAAQQQQCANAoTHNCCyCQQQQAABBBBAAAEEEEAg1wUIj7lew5QPAQQQQAABBBBAAAEEEEiDAOExDYhsAgEEEEAAAQQQQAABBBDIdQHCY67XMOVDAAEEEEAAAQQQQAABBNIgQHhMAyKbQAABBBBAAAEEEEAAAQRyXYDwmOs1TPkQQAABBBBAAAEEEEAAgTQIEB7TgMgmEEAAAQQQQAABBBBAAIFcFyA85noNUz4EEEAAAQQQQAABBBBAIA0ChMc0ILIJBBBAAAEEEEAAAQQQQCDXBQiPuV7DlA8BBBBAAAEEEEAAAQQQSIMA4TENiGwCAQQQQAABBBBAAAEEEMh1AcJjrtcw5UMAAQQQQAABBBBAAAEE0iBAeEwDIptAAAEEEEAAAQQQQAABBHJdgPCY6zVM+RBAAAEEEEAAAQQQQACBNAgQHtOAyCYQQAABBBBAAAEEEEAAgVwXIDzmeg1TPgQQQAABBBBAAAEEEEAgDQKExzQgsgkEEEAAAQQQQAABBBBAINcFCI+5XsOUDwEEEEAAAQQQQAABBBBIgwDhMQ2IbAIBBBBAAAEEEEAAAQQQyHUBwmOu1zDlQwABBBBAAAEEEEAAAQTSIEB4TAMim0AAAQQQQAABBBBAAAEEcl2A8JjrNUz5EEAAAQQQQAABBBBAAIE0CKQ1PKbheNgEAggggAACCCCAAAIIIIBAlgjs9Yv5ZMmxcpgIIIAAAggggAACCCCAAALVJEB4rCZ4dosAAggggAACCCCAAAIIZJMA4TGbaotjRQABBBBAAAEEEEAAAQSqSYDwWE3w7BYBBBBAAAEEEEAAAQQQyCYBwmM21RbHigACCCCAAAIIIIAAAghUkwDhsZrg2S0CCCCAAAIIIIAAAgggkE0ChMdsqi2OFQEEEEAAAQQQQAABBBCoJgHCYzXBs1sEEEAAAQQQQAABBBBAIJsECI/ZVFscKwIIIIAAAggggAACCCBQTQKEx2qCZ7cIIIAAAggggAACCCCAQDYJEB6zqbY4VgQQQAABBBBAAAEEEECgmgQIj9UEz24RQAABBBBAAAEEEEAAgWwSIDxmU21xrAgggAACCCCAAAIIIIBANQkQHqsJnt0igAACCCCAAAIIIIAAAtkkQHjMptriWBFAAAEEEEAAAQQQQACBahIgPFYTPLtFAAEEEEAAAQQQQAABBLJJgPCYTbXFsSKAAAIIIIAAAggggAAC1SRAeKwmeHaLAAIIIIAAAggggAACCGSTAOExm2qLY0UAAQQQQAABBBBAAAEEqkmA8FhN8OwWAQQQQAABBBBAAAEEEMgmAcJjNtUWx4oAAggggAACCCCAAAIIVJMA4bGa4NktAggggAACCCCAAAIIIJBNAoTHbKotjhUBBBBAAAEEEEAAAQQQqCYBwmM1wbNbBBAICzylHRcMlwb+W3VbVU6lbOTv9OP68DaaqdbTpSrafI++GzBXP4f+u0bxIu3b87jK7Yi1EUAAAQQQQACBPBQgPOZhpVNkBGIF3tX3vTpq9xnVEazSFR6TbSf491+qKDz+NPtc/bDmHO0za4hqepxi9t8Xf2L+cpgKJy9V7YaxC5WH31Dw5VRFAAEEEEAAAQQySIDwmEGVwaEgUH0ChMfK2icKj8HgKBUWN1Rg8WbP8GgHx2094obPRMe3/ZWpGnrbbL26pUy7C4p08MlddMeUEp11YGitZTfo9KHf6fIRv9KS0StkFlPt9tO0/q6WlS026yOAAAIIIIBAHgkQHvOosikqArECwda43R40BdHdSFdco28mrQ4t5Ww5K29RM39uMkb7NCgNtrDVjwpCCbuOhlsMF6nGwo4KfG62E71usmpzHFv0wu7Wu0Qtj04Hd9dWRxnNLqJtnF1lo/ZvLPYf2V4KHZ+9jizH2PCYrNUyEUFg43i16zRbH7kqseDInnr0mRKdVGjWXny1jh26SgX12+ruR8fp/AO3a+v2A9XgEOuPfBBAAAEEEEAAgdQECI+pObEUAjkukKDl0Q4/UYHH/e+QjB2i1EyFDfqrdvQ7haHguFc4jLr/rVCoq99MBcNKVVvBdxTlu3tpRbutukOl69/28W5STev9SausccqfUgD0XDdo//MZPfTL4vC7mfG7tjpPxE81s7iFJm47SdeVPqA+p9dVYdlWvTC2l/o/ulVNRq7V/M51Q+Fxk7o/vlTD7DTJBwEEEEAAAQQQ8C9AePRvxhoI5KBA/PAYDIWhVjS75N4teMEWuNh39YKtdg2Dg9d4yrm3FzyWwOHR+0yFvILh0Q50chxfwi6kMeE3eGwVDo/hVtlIa2uo/EqlC+sS9T1hsLb2Xa5n+h0RhbRRY1tcoqfOmq+1t58eCo/SuPfuU3EqlCyDAAIIIIAAAgh4CBAeOS0QQMAIxAuPXkHOe9nYkBkVqlIIj+Wjre7Z8OgVbt1B0KtrqqNbb2XCo1drZJzWzdhTlfDI5YsAAggggAACe06A8LjnrNkTAhkskKaWR0cLZXaEx2A31AQtj+4gVyUtj8+rIHoE1pTDY3m31Z53TlK/sxuoKG63VVoeM/gC5NAQQAABBBDICgHCY1ZUEweJQFULpOudR4+upp7vOJaqRiQsububxml5DA+ME3cwnQp2W43phuvqRuv5zudqx6A5Vu1UuNtqqNW3vJuun26rUmDlYJ3Rd4l2uk6R2AFzCI9VfRWxfQQQQAABBHJdgPCY6zVM+RBIUSDRiKLhEUODm0ow2mpkX64BX2JGWx2johbtVdOe67CS4dG17cghhEc7TfZ3e4XEo606uq026aHCbXPNqLCJy2iNPGuPthoOh9Yosu6AFxnRNhQYw8v4GW3WbHP7K+PV/6YFeuMLM1VHYW01bHGDJo+/TMeEXzK1R1slPKZ4KbAYAggggAACCMQRIDxyaiCAAAIIIIAAAggggAACCCQVIDwmJWIBBBBAAAEEEEAAAQQQQAABwmMFz4Hty0vUYfDf9anqqen1D+rBHkdXcEushgACCCCAAAIIIIAAAghkvkCOhscdWjfzdj1YcJmmX9Ukbi28PuYvumLhURr16gPqaObRTvmzY6G6Nh2pdbuDaxzZe4mWddiokeO+1AXTr1L8Paa8h4QL7lj0V/3p1g/V+aGXNPyU9GyzKrdSYeeqPCi2jQACCCCAAAIIIIAAAr4EMiY8Bj57VjNXHqV+XY73LkBgh95aOlMTS/+m/7Z4SEtK4ixnr/2Oxrcq1uxG4/TeffGnxK5wqFnSVycMfl9XPL5Uwxp9pq3/a6AGq/fcgBSER+9T5Oevlqps7ZHap91xvi4CFkYAAQTyUyDZCMVVreIcqKp8kKnY/ToH9HINVlXVh8n2EUi7QIIRztO+r9Q2aA8Mt62H9pk1RDVTW6VKl3LOr9xMtZ4uVXgMOMeOYwbkW6R9e/IcWJWVkxHhcce/J6tX11Jt77JYKzxCYeDDebr6sjv16rehpr7miUNhquGxorAfTGijtk831+MvDtNJ4Y0wmmFFOdOy3q73pul/w+/VL+fxpZEWUDaCAAJ7SKA6HyIrGR7th7boOUrjTLOTVDLZet5GzodL505qFHMvSMrOAqlNsVQlTtV53XsXKN3h0d5e9NzPKc9f7Dy+4A9HDeOGR89pssJTe3kV1edo5lVS/Vm+0YwIj+Gwt6yNR3h8Z4radpyuD37eT8e066pBXTrq1BPrq25hIvnUWh7dW3hnfCsVL2ujxStKlLBd02u5KgmPi3V1cHx9JWhAzfJTMM7hvzNerYqXqc3iFUrYyBxZPfO+iHOzYigVAgikV6A6v7uyOzyW10Oy8JneGmNruSOQ0vy8VVLc6rzu8yA8RhUxWfiskurN8Y1meHjcopnF52nKd8epcc1P9OZH3+rnoiPUbuw8jTn/EMXPj6HweMBF6lnjRc3d8K12FxTpiFYjdO+EDjoqtOIHMzrp0un76eaN98nq3GqHx9nbQlV+uHrGCS7O5aTmVrhTbLd+t/Q4AAAUNElEQVTVwIePafiQiXr2ra8UMEdbu2EL3VQ6QR3CB6Ayvf9IiQbc9aI2fx9QQdHBOrnPDM3tc1KobMHwuCp8EoZbXJfdoNOHvqkOC5cFg5X97+3qdGM9vTp9ud41c72p6DhdOm2Obj3rwNDaAW18sK8GT3xVW8p2q7B2Q/2+6f765vX3VOMir27AyzSo8SBtOPMKnfT2Ai3/NCAV1tOp3cZpSslZCm/VzDCnV6YO1W2zg9u1y9DlDscybmf734t/o97tvtWTc9faZS+s92eVPFSqbmEbOzzOVqQ2enq3SrsfHnafwa/NOf6dRfEQyBEBV5fNqFIVROb/tP4zwRykju5aplvX5Eb6acBc/eyYizXRHKLh8LhINRZ2NHOXmt35+VU+hZbHhPPHun78Cxwenhs19Id4c7S65pqNzKXqXt/ejKv8kflXy/9m3Tdqbu2oH9db/+fuHueup9gus84yOtePbh21WkMj+3EcR46c0llUjLit1o56qcprrzw8xj/3koPG79oZPPZfolrgvVsCVwd3YspdS8Od3VZdrXd+W/OTtzy6rq043z3e4c91XUdRuY8zUXhMdO1GfljovEk/TAo6Ob+bFWy5XvxJ+d7d17XDMMEc2Wa9fRqUBrfl5zs4+SlSJUtkdni0A8Qi/bD/D/rmm1CXVZshfrALKoXC4+eHqnWfm9Xz4gO09f7bNWrBRqntDK2Z0NIOZ8EQ2Mg07A3S+9Y7kuGkEncfoe06losTHreb4NfGBL+drnqr01zjlpmwatLXlhkX6rxJ7yq6ZDKjt3ZZ+A/d+rEVRiOxMbiRcHi0Wzk3lYdb+9+v6ugukzSz5Gw12PszPXf9JRq46o+asWGCWppVd5j3NFsOXin34diansEsGFxf2a+xLh08UF3MwDyrJwzV3Su/0jGDntPiPkeYNU0gHd9OnWZ/5CpDgY7s+aieKQmG4HLnqJA+93v96fo5mtz1RNXd9b4mdylW6S/99eLiPvrOEeKDRfc+xmjbzPsVr0quWDaKAAI5JpDou8v9ABj7QGhj2A8o5sGmuJFq9Yx+X8ndIuf+d2h79ZupYFipasvqhjpXSrXLZ7LwaP99k2qG31WK220tWcthsu/3+Os7H2Dd2wn924TRvTovVd1WoYfZyAOgx3atMixsFHkvzP1gmuhBd/fhxrmZcW6VY6dwFhcnfstjVV97yc695KjubqbOfycLj65zPRxyIsHF+nupakxeaho+zLGEfsjZy/HDVuJjTBYerb//1CD8g3/8azhZy2Gy1uO464e+N8PvUrq3E/y3VOPwa7TvyPYKBvWoH4divs+CZfi587/Nd0n4e3mzCsOGcb7/gk7NVNigv2pnybuamR0e7VD0uk7qcqtuG3SuTjQjou5Yd5c69nhQn587QxtMCPT+eHVbDWjdzX9R18cbauTa+epstuUONetu/v/t3X2MFdUdxvEnwqIbcVuaKAYlWlJrWvhDJBjaag1qpRaDqPUFCEhxfQEL6qqgrvUluouSFly0C2itlI0ucS2lRlJrLK2laqNYaKW1acSCoFHrS7pqablEe+bemcu9Z17OfdllZ/d+73+6c+/MfObMZB7OOb8zQTNfm6eXOmcpqfhq5PBWa9jqxqYTNPepBk1e/Ihazhmpeq/gT8dVuuSeF3Xw9E49d5tJY29s0Qv/G6HRx+aG4e7ZZXrezmjTsGCYavcaTRvfri91/FF3nlRwppHh0Rvdmgtn2Y+1zfrLj9ei7efqgUfu1KlHGse/tuuSCx5S/bVrteyi4zQ8NA44Fx63FwXL97Vm2ilqeeMidT53m058a6WmTlym3WO+r/aHr9RJ5jf27HpGrY0L9NiucbHOUX72tTAXSxNmvqZ5L3VqVkmVcF0vF+4HMVsggAACB14g4dllvdx4xxY5L8l/8bP/Vdz9wme/YLpCnKUT1zMY16sW+wLq2q/r+R7z/VC4DXoKgvlT4e8V+1ZwXJHn6P+O0lOM5MC383TuMTZ49Pq952p7Lq+Yf0jKf80RHiOCTPKcR9f+wscb3bsbX+wqbv+9Ex4jninWvRvar23mmMMZCs/+KJLC3uD8M70wlLoufQr+3g/CoxWKsrnIBKGPmk3Ia9D1hcM6ZXr1sgEqZs5jNpA8r/P84ah2YMn+rlzFePzQac+NLAqPr2nppMlac/x9emn5mQXDazN6fM4YNe/xjt0LqBm9vblDS1s7tGnnv/SBGb7pfbLDYHPjaKPn/VUcHmeo4xc35ULeP9o0fWq7/tNolhlpilqjMio8mtC5ZprGtxyWc85Wnd2luU8/qfleR2Tw2daqiec/oZP90BvZ82j5hcJj2XNIXS8XKbjbOAQEEEAgJBD/7Ip6aYovDqFwQQlnb4E959EVlqLCY3LBnKgXyFDIDYaWRg479fbper4nhUdvGK/9CXoPwr8bfoFNGrYa9UIdNY/UdfzcFn0lEBcee//eK6XtJam4wlz14TE0JNMcTjlDV109j8E/bhXdnxFDNnszPGaH6luf4PkUahsRYTF+2GrUMyn6ORAOmX11N5S+33SHx8hw4gcwU8Fp208H66pywmM21PxGZ6UkPKpzpibc/qrGNS7RdTNGa9ThL+j6MQUFcnowPGa2LdHZFz6kHYVjZAd9Rdf+ar2yI1BDn+jwmHl8jsY0DyY8ln6PsSUCCCCQINBTPY8pDI/2y1YKeh6LL0T5L/BRPZNFc+0Teh6Zk5++B0HP9DxWcu+V3/aK9Xo5PIbasWt/4WubHB5L73ntzfCYdE+WEh6LztoyK6vnsbAqbfpuk9ARpTs8dndq5oTb9fLIC7XiZ7ea4Zb7tOuXzZpx0wbVzU4qoBLd87jzvrN15ophscMpsz2PHy7S811z1NDdrX0NDZFrypQzbPW0W1fonvPNvD6Fh61mh7ZuPFF3PLVKF5tz+2DrjzXrogdVb+Yvds0xkyKz4XGdxj+0SXefvE/d3YPV4A0vraDn8Y3189XYulWZgz/SO+/u1ZAjxmr64uVamC+oY7eNqPCY0dMLxmv+y+daw1Yv1d33ztcZI+t7bthq9hw/1KLnuzSnoVvd+xrUELnAT3Dc/MtuP3jecIgIIBASSHp2lTfvKrwOWvQL2v55RiX2PIbmQ/kn4ZrzGDnMa1Oo6ERywRtvX67ne1yPafj/ey+Ee3Svvw6c6wXemvdljsTumSxrziMF3VJ3//fUnMfy7z1X2yu8x7ze8/A6h5Ftcdc8DTPz88L3lD2fN2Z+bzC02g6P/n+H5kPnh67HHF/sUh32vRk/tLt3wqM9hN2QeefSaupN+utcusJj9u95b//7Zs54fl5oicNc6Xms+LGQC3vhpTpiCrIUFJ2J3qUfHusv07pHrzZzJU3ofKZVjQse08fnd+h3ZgJhVCGXDXO/qqaNQdeco9pq4rBVc1Q7zXzAs5bp1eJqOFLBsXdnex5f3F9s5uhTzcDbZ/Xsbn/fdUs1afIq7QhOMrFgTvKcx+Jz835wkOo/d4xOWdiupd/9YkTl2lx4/MsZi9X1w/NMEZ4g/L6s45o3qXOWV281o41NX9PcDXYZnhIK5riGrWZ7nTfmbSiYU/HNxRcRQCDlAvbQp8qqre4/yeKhZf5LWTA8ywwLO+Tmyaof5S2i3cvhMQhb2Sqm5jNutup2rzZVXYN5T/aQUH+7oqIdzVZBNrNNaGhb0nBb6/y9whTXfFtDTp9iFkJ3vMC//nft/efyfKXF3NGFX5KTKjZGz/tKWPA85W11wB2ePW+3omqrldx71YdHb6+haqttCzTI3NtDvD9a1ZgHjdtk7qWCisZFfz9KBw1/04TU/fNyi9q1uefqjjb3rrmXi55PFYdH+/jMM2HqKGXWm6qm/jVwzZl0/T24KknhM/TsndqiuolTzPPRD5cvfCtfHCtXmGx/AZy9rz+hva3NuSrV/ic0rLfUaqv5X4ifE5qmey/dPY9ZKbMUxJIFWrRms97LmMBzzOm6ZVXhchdRnFFVUes04pwl6mz5jo70l+qw59lltq3U7Cvu1+b3vKUjRuuy5et09bjw75fS8+h9y1uqo2neYv329Y+VMUuFHDF2uu760bWmBzVYZOR9Pb1wmhY+uVN7D/u6blz7gCb/uUlTbvmbzuny1jfc//c9pg/0mDPv0up7z9aICnoe92xdpe9dvlRb/m2fj1/d1dTvKf5Yy4R4fxz0eZ0wd6VWzx9b0CObuz43PbpF7/pLgEy8oU1LLv5yfpuK5jxmtmnl7Ct0/2azzIlZImT0Zcu1Lupi5A/a9S/TabrtOBYEEEAAAQQQQAABBPqfQErCY0/DZdT9zkeqG26GUb71oSmBa8ajDxuhLyQOe+zpY0jR7/3pDn1j2u81ae2TunVsgGCMdjyoSye16dMb/qCfNx4eGR63z3hYHY3HeslRQw/PVYXlgwACCCCAAAIIIIAAArUnMEDDY+1dyMQz9pc8OWnRT9Q27YRsiM5079DmNT/Q/Pte0TdXbFV41ZPogjnIIoAAAggggAACCCCAQG0KEB5r4bp3b9Dc05q00Z6aaM79MDOP8tdmXRBvBmPxh/BYC00jHecYVdq+nCOr8vvWnJekUuSh+SXB4uflHC7bIoAAAggggAAC/VSA8NhPL1y5h515+1ktu+4WPbrlXZmpiaobOkoTZt+ou648NT8HlPBYrupA2r4v54xWGf5CRT8qvS6uUuTVHmelx8X3EEAAAQQQQACBdAgQHtNxHTgKBPpYgPAYVJ78bGqXX8bfviSExz5upOweAQQQQAABBPpYgPDYxxeA3SPQtwIxpfLNQRWV4y613LQpsX3oyHZ9sv7N4nL6iUNDg1DWpYM6L8iVvQ6V4k9Scn8/eSmE4Ldjeh6Lzr3wOCi337dtl70jgAACCCCAwIEWIDweaHH2h0AqBRJ6Hsta6NasoTZygYZe6q0h539iFhvOL6TrDzv9bPgpGnRzu4bKLNRrFtoNLUYc6+aHvrjvZ/e/XUOC+Yn2+eR/l2GrqWyaHBQCCCCAAAIIpEaA8JiaS8GBINCXAvHhMVskpnBh4SDsWcM7c8Vk4hbQHqVDYovL2KEtacHvKKMyv2+HWcJjXzY89o0AAggggAAC/UiA8NiPLhaHikDvCcSFx6ggF71tOGTmjjY3ZNQdHnXNK2o43ftGZeEx6fvFVVJzx1U0LDf7f+h57L32xS8jgAACCCCAwEAQIDwOhKvIOSBQtUAP9TwW9VCmJDzaw1Tpeay6tfADCCCAAAIIIFCbAoTH2rzunDUClkBPzXls0bDbpxT/diiseT187Tqo7SmZFWPyPX7OnsegcE2omI5dBdXquYycs7mJnkfuAQQQQAABBBBAoEwBwmOZYGyOwEAVSKxIWmq11TzOUarLh0PzP0PVVltUP3GKhhyI8Gh2XzRsddxs1e1ebaq6+sfoF+j51L6wpnJsNghbx57fLPj7QG0QnBcCCCCAAAIIIGAJEB5pEggggAACCCCAAAIIIIAAAk4BwqOTiA0QQAABBBBAAAEEEEAAAQQIj7QBBBBAAAEEEEAAAQQQQAABpwDh0UnEBggggAACCCCAAAIIIIAAAoRH2gACCCCAAAIIIIAAAggggIBTgPDoJGIDBBBAAAEEEEAAAQQQQAABwiNtAAEEEEAAAQQQQAABBBBAwClAeHQSsQECCCCAAAIIIIAAAggggADhkTaAAAIIIIAAAggggAACCCDgFCA8OonYAAEEEEAAAQQQQAABBBBAgPBIG0AAAQQQQAABBBBAAAEEEHAKEB6dRGyAAAIIIIAAAggggAACCCBAeKQNIIAAAggggAACCCCAAAIIOAUIj04iNkAAAQQQQAABBBBAAAEEECA80gYQQAABBBBAAAEEEEAAAQScAoRHJxEbIIAAAggggAACCCCAAAIIEB5pAwgggAACCCCAAAIIIIAAAk4BwqOTiA0QQAABBBBAAAEEEEAAAQQIj7QBBBBAAAEEEEAAAQQQQAABpwDh0UnEBggggAACCCCAAAIIIIAAAoRH2gACCCCAAAIIIIAAAggggIBTgPDoJGIDBBBAAAEEEEAAAQQQQAABwiNtAAEEEEAAAQQQQAABBBBAwClAeHQSsQECCCCAAAIIIIAAAggggADhkTaAAAIIIIAAAggggAACCCDgFCA8OonYAAEEEEAAAQQQQAABBBBAgPBIG0AAAQQQQAABBBBAAAEEEHAKEB6dRGyAAAIIIIAAAggggAACCCBAeKQNIIAAAggggAACCCCAAAIIOAUIj04iNkAAAQQQQAABBBBAAAEEECA80gYQQAABBBBAAAEEEEAAAQScAoRHJxEbIIAAAggggAACCCCAAAIIEB5pAwgggAACCCCAAAIIIIAAAk4BwqOTiA0QQAABBBBAAAEEEEAAAQQIj7QBBBBAAAEEEEAAAQQQQAABpwDh0UnEBggggAACCCCAAAIIIIAAAoRH2gACCCCAAAIIIIAAAggggIBTgPDoJGIDBBBAAAEEEEAAAQQQQAABwiNtAAEEEEAAAQQQQAABBBBAwClAeHQSsQECCCCAAAIIIIAAAggggADhkTaAAAIIIIAAAggggAACCCDgFCA8OonYAAEEEEAAAQQQQAABBBBAgPBIG0AAAQQQQAABBBBAAAEEEHAKEB6dRGyAAAIIIIAAAggggAACCCBQcXj8+JP/oocAAggggAACCCCAAAIIIDAABYYeekjorAiPA/BCc0oIIIAAAggggAACCCCAQDUChMdq9PguAggggAACCCCAAAIIIFAjAoTHGrnQnCYCCCCAAAIIIIAAAgggUI0A4bEaPb6LAAIIIIAAAggggAACCNSIAOGxRi40p4kAAggggAACCCCAAAIIVCNAeKxGj+8igAACCCCAAAIIIIAAAjUiQHiskQvNaSKAAAIIIIAAAggggAAC1QhEhcf/A61LmZh12/sUAAAAAElFTkSuQmCC)\n",
        "\n",
        "Data types such as float32, float16, float64, have to do with precision in computing, as float32 stores the values in 32 bits on the system memory, same with float16 and float 64. This means that float64 will be a more precise value than float32 and float32 will be a more precise value than float16."
      ],
      "metadata": {
        "id": "jws7cWfSKxUM"
      }
    },
    {
      "cell_type": "markdown",
      "source": [
        "## Tensor Attributes\n",
        "\n",
        "The most common information or attributes we will need from tensors are -\n",
        "1. Data Type - `tensor.dtype`\n",
        "2. Shape - `tensor.shape`\n",
        "3. Device - `tensor.device`\n",
        "\n"
      ],
      "metadata": {
        "id": "keuN4tDNLlqg"
      }
    },
    {
      "cell_type": "code",
      "source": [
        "# Create a tensor to try retrieving the above 3 datatypes\n",
        "some_tensor = torch.rand(3, 4)\n",
        "some_tensor"
      ],
      "metadata": {
        "colab": {
          "base_uri": "https://localhost:8080/"
        },
        "id": "JNkBuGLPL_HI",
        "outputId": "05e2dd60-4a62-469f-826b-68f7dd440a13"
      },
      "execution_count": 26,
      "outputs": [
        {
          "output_type": "execute_result",
          "data": {
            "text/plain": [
              "tensor([[0.0406, 0.5355, 0.9655, 0.8769],\n",
              "        [0.3825, 0.1307, 0.3053, 0.7396],\n",
              "        [0.3638, 0.8811, 0.8542, 0.5881]])"
            ]
          },
          "metadata": {},
          "execution_count": 26
        }
      ]
    },
    {
      "cell_type": "code",
      "source": [
        "# Find out details about the above created tensor\n",
        "print(some_tensor.dtype) # Data Type\n",
        "print(some_tensor.shape) # Shape\n",
        "# print(some_tensor.size()) # also for Shape\n",
        "print(some_tensor.device) # Device"
      ],
      "metadata": {
        "colab": {
          "base_uri": "https://localhost:8080/"
        },
        "id": "iKab7CszNLwP",
        "outputId": "e7af6763-7033-45cf-e8c9-aa9f167093c0"
      },
      "execution_count": 27,
      "outputs": [
        {
          "output_type": "stream",
          "name": "stdout",
          "text": [
            "torch.float32\n",
            "torch.Size([3, 4])\n",
            "cpu\n"
          ]
        }
      ]
    },
    {
      "cell_type": "markdown",
      "source": [
        "From the above cell,\n",
        "- `some_tensor.shape` is a variable\n",
        "- `some_tensor.size()` is a function\n",
        "- The default device for any tensor is the `cpu`."
      ],
      "metadata": {
        "id": "oOply77hNYo3"
      }
    },
    {
      "cell_type": "markdown",
      "source": [
        "## Manipulating Tensors (AKA Tensor Operations)\n",
        "\n",
        "Tensor operations include -\n",
        "\n",
        "- Addition\n",
        "- Subtraction\n",
        "- Multiplication (element-wise)\n",
        "- Division\n",
        "- Matrix Multiplication\n",
        "\n"
      ],
      "metadata": {
        "id": "4ieAlQkRN5_n"
      }
    },
    {
      "cell_type": "code",
      "source": [
        "# Create a tensor\n",
        "tensor = torch.tensor([1, 2, 3])\n",
        "tensor"
      ],
      "metadata": {
        "colab": {
          "base_uri": "https://localhost:8080/"
        },
        "id": "GMRWRz2MOre4",
        "outputId": "3ce630a1-a881-4aef-ef4f-3276aec7128c"
      },
      "execution_count": 28,
      "outputs": [
        {
          "output_type": "execute_result",
          "data": {
            "text/plain": [
              "tensor([1, 2, 3])"
            ]
          },
          "metadata": {},
          "execution_count": 28
        }
      ]
    },
    {
      "cell_type": "code",
      "source": [
        "# Perform Addition\n",
        "tensor + 10"
      ],
      "metadata": {
        "colab": {
          "base_uri": "https://localhost:8080/"
        },
        "id": "WR-d-w56QkFj",
        "outputId": "53effa11-78e7-4df8-8c25-85d8c3af3054"
      },
      "execution_count": 29,
      "outputs": [
        {
          "output_type": "execute_result",
          "data": {
            "text/plain": [
              "tensor([11, 12, 13])"
            ]
          },
          "metadata": {},
          "execution_count": 29
        }
      ]
    },
    {
      "cell_type": "code",
      "source": [
        "# Perform Multiplication\n",
        "tensor * 10"
      ],
      "metadata": {
        "colab": {
          "base_uri": "https://localhost:8080/"
        },
        "id": "R7_Q0dZTP8PN",
        "outputId": "32552f15-effc-4901-b151-81176a45b8e9"
      },
      "execution_count": 30,
      "outputs": [
        {
          "output_type": "execute_result",
          "data": {
            "text/plain": [
              "tensor([10, 20, 30])"
            ]
          },
          "metadata": {},
          "execution_count": 30
        }
      ]
    },
    {
      "cell_type": "code",
      "source": [
        "# Perform Subtraction\n",
        "tensor - 10"
      ],
      "metadata": {
        "colab": {
          "base_uri": "https://localhost:8080/"
        },
        "id": "xCQ9QQU9QOWE",
        "outputId": "ad667abd-bbf1-4ae8-ff4f-142adaa8aa9f"
      },
      "execution_count": 31,
      "outputs": [
        {
          "output_type": "execute_result",
          "data": {
            "text/plain": [
              "tensor([-9, -8, -7])"
            ]
          },
          "metadata": {},
          "execution_count": 31
        }
      ]
    },
    {
      "cell_type": "code",
      "source": [
        "# Perform Division\n",
        "tensor / 2"
      ],
      "metadata": {
        "colab": {
          "base_uri": "https://localhost:8080/"
        },
        "id": "23Q8wmjDQSCs",
        "outputId": "e7df44e3-94b2-4274-fc88-50958f6f5ce8"
      },
      "execution_count": 32,
      "outputs": [
        {
          "output_type": "execute_result",
          "data": {
            "text/plain": [
              "tensor([0.5000, 1.0000, 1.5000])"
            ]
          },
          "metadata": {},
          "execution_count": 32
        }
      ]
    },
    {
      "cell_type": "markdown",
      "source": [
        "### PyTorch in-built operator functions\n",
        "- PyTorch also has operator functions for manipulation of tensors.\n",
        "- Python's syntax and PyTorch's functions may be used interchangeably."
      ],
      "metadata": {
        "id": "DpkZASF0QV8k"
      }
    },
    {
      "cell_type": "code",
      "source": [
        "# Addition\n",
        "torch.add(tensor, 10)"
      ],
      "metadata": {
        "colab": {
          "base_uri": "https://localhost:8080/"
        },
        "id": "w3sd68bkRCoZ",
        "outputId": "a7bf5b81-1e35-40ff-c0eb-4de9aae832fb"
      },
      "execution_count": 33,
      "outputs": [
        {
          "output_type": "execute_result",
          "data": {
            "text/plain": [
              "tensor([11, 12, 13])"
            ]
          },
          "metadata": {},
          "execution_count": 33
        }
      ]
    },
    {
      "cell_type": "code",
      "source": [
        "# Multiplication\n",
        "torch.multiply(tensor, 10)"
      ],
      "metadata": {
        "colab": {
          "base_uri": "https://localhost:8080/"
        },
        "id": "gahmI8sqRiO9",
        "outputId": "e72c1d72-4a9b-4ce1-bb2c-c4bd8f34433b"
      },
      "execution_count": 34,
      "outputs": [
        {
          "output_type": "execute_result",
          "data": {
            "text/plain": [
              "tensor([10, 20, 30])"
            ]
          },
          "metadata": {},
          "execution_count": 34
        }
      ]
    },
    {
      "cell_type": "code",
      "source": [
        "# Subtraction\n",
        "torch.subtract(tensor, 10)"
      ],
      "metadata": {
        "colab": {
          "base_uri": "https://localhost:8080/"
        },
        "id": "stSjWG4-RlTN",
        "outputId": "ddb67a13-0a64-423c-ad3e-b040662053ab"
      },
      "execution_count": 35,
      "outputs": [
        {
          "output_type": "execute_result",
          "data": {
            "text/plain": [
              "tensor([-9, -8, -7])"
            ]
          },
          "metadata": {},
          "execution_count": 35
        }
      ]
    },
    {
      "cell_type": "code",
      "source": [
        "# Division\n",
        "torch.divide(tensor, 10)"
      ],
      "metadata": {
        "colab": {
          "base_uri": "https://localhost:8080/"
        },
        "id": "nmwvrTpYRoZU",
        "outputId": "7b1859f6-59a5-4d35-91d9-1bb84733fd40"
      },
      "execution_count": 36,
      "outputs": [
        {
          "output_type": "execute_result",
          "data": {
            "text/plain": [
              "tensor([0.1000, 0.2000, 0.3000])"
            ]
          },
          "metadata": {},
          "execution_count": 36
        }
      ]
    },
    {
      "cell_type": "markdown",
      "source": [
        "### Matrix Multiplication\n",
        "\n",
        "- There are two main ways of multiplying tensors -\n",
        "  1. Element-Wise Multiplication\n",
        "  2. Matrix Multiplication (aka dot product)\n",
        "- Matrix multiplication, also known as matrix product and the multiplication of two matrices, produces a single matrix. It is a type of binary operation. [*source*](https://byjus.com/maths/matrix-multiplication/#definition)\n",
        "- Used to multiply two tensors to each other and produce another tensor.\n",
        "\n",
        "Read more about matrix multiplication [*here*](https://www.mathsisfun.com/algebra/matrix-multiplying.html)\n",
        "\n",
        "<!-- Also, note that for matrix multiplication to be succesful, both the tensors need to be of the same shape / size. (eg, 3x3 can only be matrix-multiplied by 3x3)  -->\n",
        "\n",
        "There are two main rules to follow, for a Matrix Multiplication to be successful -\n",
        "1. The **inner dimensions** must match\n",
        "  - `(3, 2) @ (3, 2)` WON'T WORK\n",
        "  - `(2, 3) @ (3, 2)` WILL WORK\n",
        "  - `(3, 2) @ (2, 3)` WILL WORK\n",
        "2. The resulting matrix has the shape of the **outer dimensions**.\n",
        "  - `(2, 3) @ (3, 2)` => `(2, 2)`\n",
        "  - (and same for reverse)\n"
      ],
      "metadata": {
        "id": "aJMXBVlyRrdF"
      }
    },
    {
      "cell_type": "code",
      "source": [
        "# Element wise multilpication\n",
        "tensor * tensor"
      ],
      "metadata": {
        "colab": {
          "base_uri": "https://localhost:8080/"
        },
        "id": "wQ0zLUmYTRGr",
        "outputId": "c9226149-5136-4908-cfa4-ff620da477ec"
      },
      "execution_count": 37,
      "outputs": [
        {
          "output_type": "execute_result",
          "data": {
            "text/plain": [
              "tensor([1, 4, 9])"
            ]
          },
          "metadata": {},
          "execution_count": 37
        }
      ]
    },
    {
      "cell_type": "code",
      "source": [
        "# Matrix Multiplication\n",
        "torch.matmul(tensor, tensor)"
      ],
      "metadata": {
        "colab": {
          "base_uri": "https://localhost:8080/"
        },
        "id": "7FJDMvQkUpJq",
        "outputId": "65c43379-6877-475f-a53a-af2da0c53306"
      },
      "execution_count": 38,
      "outputs": [
        {
          "output_type": "execute_result",
          "data": {
            "text/plain": [
              "tensor(14)"
            ]
          },
          "metadata": {},
          "execution_count": 38
        }
      ]
    },
    {
      "cell_type": "markdown",
      "source": [
        "- Note that, if PyTorch has a method already implemented as a function, (for example multiplication, or addition), then it is typically faster than its python-syntax counterpart."
      ],
      "metadata": {
        "id": "uvjxyez5U1lb"
      }
    },
    {
      "cell_type": "markdown",
      "source": [
        "\n",
        "#### Proving that `torch.matmul()` is faster than manually multiplying tensors"
      ],
      "metadata": {
        "id": "hJfXAydxWDpy"
      }
    },
    {
      "cell_type": "code",
      "source": [
        "# Matrix multiplication using a for loop\n",
        "%%time\n",
        "value = 0\n",
        "for i in range(len(tensor)):\n",
        "  value += tensor[i] * tensor[i]\n",
        "print(value)"
      ],
      "metadata": {
        "colab": {
          "base_uri": "https://localhost:8080/"
        },
        "id": "Gdjh4ZhGWlBk",
        "outputId": "a3a926cc-3506-47e0-e416-904a8037d0ee"
      },
      "execution_count": 39,
      "outputs": [
        {
          "output_type": "stream",
          "name": "stdout",
          "text": [
            "tensor(14)\n",
            "CPU times: user 1.87 ms, sys: 0 ns, total: 1.87 ms\n",
            "Wall time: 4.6 ms\n"
          ]
        }
      ]
    },
    {
      "cell_type": "code",
      "source": [
        "# Matrix multiplication using torch.matmul function\n",
        "%%time\n",
        "torch.matmul(tensor, tensor)"
      ],
      "metadata": {
        "colab": {
          "base_uri": "https://localhost:8080/"
        },
        "id": "qk7IcEKPWyhC",
        "outputId": "577b5c23-f653-4fc9-e23c-08fe4d91994c"
      },
      "execution_count": 40,
      "outputs": [
        {
          "output_type": "stream",
          "name": "stdout",
          "text": [
            "CPU times: user 25 µs, sys: 4 µs, total: 29 µs\n",
            "Wall time: 31 µs\n"
          ]
        },
        {
          "output_type": "execute_result",
          "data": {
            "text/plain": [
              "tensor(14)"
            ]
          },
          "metadata": {},
          "execution_count": 40
        }
      ]
    },
    {
      "cell_type": "markdown",
      "source": [
        "- As we can see, `torch.matmul()` is obviously faster than manually multiplying using a `for loop`."
      ],
      "metadata": {
        "id": "yEUHNkJ9W9rQ"
      }
    },
    {
      "cell_type": "markdown",
      "source": [
        "#### Dealing with tensor shape errors\n"
      ],
      "metadata": {
        "id": "skCNY8OyNga9"
      }
    },
    {
      "cell_type": "code",
      "source": [
        "# Creating a shape error\n",
        "tensor_A = torch.tensor([[1, 2],\n",
        "                         [3, 4],\n",
        "                         [5, 6]])\n",
        "\n",
        "tensor_B = torch.tensor([[7, 10],\n",
        "                         [8, 11],\n",
        "                         [9, 12]])\n",
        "\n",
        "# torch.mm(tensor_A, tensor_B) # mm is the same as matmul alias for writing less code."
      ],
      "metadata": {
        "id": "ZwUWUWUEPwwb"
      },
      "execution_count": 41,
      "outputs": []
    },
    {
      "cell_type": "markdown",
      "source": [
        "- To fix the tensor shape issue, we can manipulate the shape of one of the tensors using the transpose method. (`.T`)\n",
        "- A **transpose** switches the axes or dimensions of a given tensor"
      ],
      "metadata": {
        "id": "_FoZ-KqDQRvV"
      }
    },
    {
      "cell_type": "code",
      "source": [
        "# Transposing tensor_B\n",
        "tensor_B.T"
      ],
      "metadata": {
        "colab": {
          "base_uri": "https://localhost:8080/"
        },
        "id": "MhHmhVdJQ_JF",
        "outputId": "169ded55-59e1-49a8-9a87-d032c9dab365"
      },
      "execution_count": 42,
      "outputs": [
        {
          "output_type": "execute_result",
          "data": {
            "text/plain": [
              "tensor([[ 7,  8,  9],\n",
              "        [10, 11, 12]])"
            ]
          },
          "metadata": {},
          "execution_count": 42
        }
      ]
    },
    {
      "cell_type": "code",
      "source": [
        "# Multiplying tensor_A and tensor_B.T\n",
        "torch.mm(tensor_A, tensor_B.T)"
      ],
      "metadata": {
        "colab": {
          "base_uri": "https://localhost:8080/"
        },
        "id": "myvispEXRIHt",
        "outputId": "1f701c30-c1bb-4de7-a39d-2035d4ad800e"
      },
      "execution_count": 43,
      "outputs": [
        {
          "output_type": "execute_result",
          "data": {
            "text/plain": [
              "tensor([[ 27,  30,  33],\n",
              "        [ 61,  68,  75],\n",
              "        [ 95, 106, 117]])"
            ]
          },
          "metadata": {},
          "execution_count": 43
        }
      ]
    },
    {
      "cell_type": "markdown",
      "source": [
        "- As we can see from the above code sell, multyplying tensor_A (3,2) by tensor_B.T (2,3), which is transposed, we get no errors."
      ],
      "metadata": {
        "id": "YqTqXkhvRvil"
      }
    },
    {
      "cell_type": "markdown",
      "source": [
        "## Tensor Aggregation\n",
        "\n",
        "- Finding the min, max, mean, sum, etc."
      ],
      "metadata": {
        "id": "dzFsGUkER-se"
      }
    },
    {
      "cell_type": "code",
      "source": [
        "# Create a tensor\n",
        "x = torch.arange(0, 100, 10)\n",
        "x"
      ],
      "metadata": {
        "colab": {
          "base_uri": "https://localhost:8080/"
        },
        "id": "V8oJnOzBXqdv",
        "outputId": "ad97c9d4-012b-491c-d536-70fd4b6741bc"
      },
      "execution_count": 44,
      "outputs": [
        {
          "output_type": "execute_result",
          "data": {
            "text/plain": [
              "tensor([ 0, 10, 20, 30, 40, 50, 60, 70, 80, 90])"
            ]
          },
          "metadata": {},
          "execution_count": 44
        }
      ]
    },
    {
      "cell_type": "code",
      "source": [
        "# Finding the min\n",
        "torch.min(x), x.min()"
      ],
      "metadata": {
        "colab": {
          "base_uri": "https://localhost:8080/"
        },
        "id": "H2Dn8qyIX6GO",
        "outputId": "c8400a61-fb5b-42b1-a31f-6b6bee84b282"
      },
      "execution_count": 45,
      "outputs": [
        {
          "output_type": "execute_result",
          "data": {
            "text/plain": [
              "(tensor(0), tensor(0))"
            ]
          },
          "metadata": {},
          "execution_count": 45
        }
      ]
    },
    {
      "cell_type": "code",
      "source": [
        "# Finding the max\n",
        "torch.max(x), x.max()"
      ],
      "metadata": {
        "colab": {
          "base_uri": "https://localhost:8080/"
        },
        "id": "5Z8SKsbjX_dL",
        "outputId": "b9988f8a-c6a2-4284-d04d-3b61c9163a3e"
      },
      "execution_count": 46,
      "outputs": [
        {
          "output_type": "execute_result",
          "data": {
            "text/plain": [
              "(tensor(90), tensor(90))"
            ]
          },
          "metadata": {},
          "execution_count": 46
        }
      ]
    },
    {
      "cell_type": "code",
      "source": [
        "# Finding the mean / average\n",
        "torch.mean(x.type(torch.float32)), x.type(torch.float32).mean()"
      ],
      "metadata": {
        "colab": {
          "base_uri": "https://localhost:8080/"
        },
        "id": "IEC3YxM2YB1c",
        "outputId": "1286aa0f-d35d-41d1-8d5f-e1076d88d74c"
      },
      "execution_count": 47,
      "outputs": [
        {
          "output_type": "execute_result",
          "data": {
            "text/plain": [
              "(tensor(45.), tensor(45.))"
            ]
          },
          "metadata": {},
          "execution_count": 47
        }
      ]
    },
    {
      "cell_type": "markdown",
      "source": [
        "- While finding the mean of any tensor, it requires the data type to be float32. Thus changing the data type of the tensor."
      ],
      "metadata": {
        "id": "FEKyBBqpYGTs"
      }
    },
    {
      "cell_type": "code",
      "source": [
        "# Finding the sum\n",
        "torch.sum(x), x.sum()"
      ],
      "metadata": {
        "colab": {
          "base_uri": "https://localhost:8080/"
        },
        "id": "g0-XjgrJYyvs",
        "outputId": "daa706a0-5f38-41a3-f703-f5a1e1e4ddd1"
      },
      "execution_count": 48,
      "outputs": [
        {
          "output_type": "execute_result",
          "data": {
            "text/plain": [
              "(tensor(450), tensor(450))"
            ]
          },
          "metadata": {},
          "execution_count": 48
        }
      ]
    },
    {
      "cell_type": "markdown",
      "source": [
        "### Finding the Positional min and max\n",
        "- Positional Min / Max gives out the position of the maximum or minimum value."
      ],
      "metadata": {
        "id": "UAUMk4M9aUyj"
      }
    },
    {
      "cell_type": "code",
      "source": [
        "x"
      ],
      "metadata": {
        "colab": {
          "base_uri": "https://localhost:8080/"
        },
        "id": "nJvBqDNha7W6",
        "outputId": "33610421-4cec-499c-fb79-ad784fd4875b"
      },
      "execution_count": 49,
      "outputs": [
        {
          "output_type": "execute_result",
          "data": {
            "text/plain": [
              "tensor([ 0, 10, 20, 30, 40, 50, 60, 70, 80, 90])"
            ]
          },
          "metadata": {},
          "execution_count": 49
        }
      ]
    },
    {
      "cell_type": "code",
      "source": [
        "# Finding positional max value\n",
        "torch.argmax(x), x.argmax()"
      ],
      "metadata": {
        "colab": {
          "base_uri": "https://localhost:8080/"
        },
        "id": "LtoUwZ0MZPPz",
        "outputId": "699c1d2e-5ea5-4097-dd4f-79b680a6d1db"
      },
      "execution_count": 50,
      "outputs": [
        {
          "output_type": "execute_result",
          "data": {
            "text/plain": [
              "(tensor(9), tensor(9))"
            ]
          },
          "metadata": {},
          "execution_count": 50
        }
      ]
    },
    {
      "cell_type": "code",
      "source": [
        "# Finding positional min value\n",
        "torch.argmin(x), x.argmin()"
      ],
      "metadata": {
        "colab": {
          "base_uri": "https://localhost:8080/"
        },
        "id": "VIuuDnffaOEa",
        "outputId": "50769bbf-b7ce-456f-d8f1-b59a2253b6ba"
      },
      "execution_count": 51,
      "outputs": [
        {
          "output_type": "execute_result",
          "data": {
            "text/plain": [
              "(tensor(0), tensor(0))"
            ]
          },
          "metadata": {},
          "execution_count": 51
        }
      ]
    },
    {
      "cell_type": "markdown",
      "source": [
        "## Reshaping, Stacking, Squeezing, and Un-Squeezing Tensors\n",
        "\n",
        "- Reshaping - Reshaps an input tensor to a defined shape\n",
        "- View - Return a view of an input tensor of certain shape, but keep the same memory as the original tensor\n",
        "- Stacking - Combine multiple tensors on top of each other - vstack, side-by-side, or hstack.\n",
        "- Squeeze - remove all `1` dimensions from a tensor.\n",
        "- Un-Squeeze - adds a `1` dimension to a target tensor.\n",
        "- Permuter - Return a view of the input with dimensions permuted (swapped) in a certain way."
      ],
      "metadata": {
        "id": "Oh29A96EaTlj"
      }
    },
    {
      "cell_type": "code",
      "source": [
        "# Creating a tensor\n",
        "x = torch.arange(1., 11.)\n",
        "x, x.shape"
      ],
      "metadata": {
        "colab": {
          "base_uri": "https://localhost:8080/"
        },
        "id": "qd_-rmencoJg",
        "outputId": "ee6ac748-048d-462c-8e88-2c391e748711"
      },
      "execution_count": 52,
      "outputs": [
        {
          "output_type": "execute_result",
          "data": {
            "text/plain": [
              "(tensor([ 1.,  2.,  3.,  4.,  5.,  6.,  7.,  8.,  9., 10.]), torch.Size([10]))"
            ]
          },
          "metadata": {},
          "execution_count": 52
        }
      ]
    },
    {
      "cell_type": "code",
      "source": [
        "# Reshape - add an extra dimension\n",
        "x_reshaped = x.reshape(1, 10)\n",
        "x_reshaped, x_reshaped.shape"
      ],
      "metadata": {
        "colab": {
          "base_uri": "https://localhost:8080/"
        },
        "id": "6yHvbTGyc1Ah",
        "outputId": "024842df-77e8-4c94-90f4-394d7c62f189"
      },
      "execution_count": 53,
      "outputs": [
        {
          "output_type": "execute_result",
          "data": {
            "text/plain": [
              "(tensor([[ 1.,  2.,  3.,  4.,  5.,  6.,  7.,  8.,  9., 10.]]),\n",
              " torch.Size([1, 10]))"
            ]
          },
          "metadata": {},
          "execution_count": 53
        }
      ]
    },
    {
      "cell_type": "code",
      "source": [
        "# View - change the view\n",
        "z = x.view(1, 10)\n",
        "z, z.shape"
      ],
      "metadata": {
        "id": "NgnX1rFgdCun",
        "colab": {
          "base_uri": "https://localhost:8080/"
        },
        "outputId": "88787293-f464-4790-bee6-c90276e5cbe1"
      },
      "execution_count": 54,
      "outputs": [
        {
          "output_type": "execute_result",
          "data": {
            "text/plain": [
              "(tensor([[ 1.,  2.,  3.,  4.,  5.,  6.,  7.,  8.,  9., 10.]]),\n",
              " torch.Size([1, 10]))"
            ]
          },
          "metadata": {},
          "execution_count": 54
        }
      ]
    },
    {
      "cell_type": "markdown",
      "source": [
        "- Returns a new tensor with the same data as the `self` tensor but of a different `shape`."
      ],
      "metadata": {
        "id": "R6jUHleJxr1x"
      }
    },
    {
      "cell_type": "code",
      "source": [
        "# Stack - stack tensors on top of each other.\n",
        "x_vertical_stacked = torch.stack([x, x, x], dim=0)\n",
        "x_horizontal_stacked = torch.stack([x, x, x], dim=1)\n",
        "\n",
        "x_vertical_stacked, x_horizontal_stacked"
      ],
      "metadata": {
        "colab": {
          "base_uri": "https://localhost:8080/"
        },
        "id": "AuA5ta3xx8RR",
        "outputId": "a6555e1e-c662-451f-91c2-3d26fb209aa4"
      },
      "execution_count": 55,
      "outputs": [
        {
          "output_type": "execute_result",
          "data": {
            "text/plain": [
              "(tensor([[ 1.,  2.,  3.,  4.,  5.,  6.,  7.,  8.,  9., 10.],\n",
              "         [ 1.,  2.,  3.,  4.,  5.,  6.,  7.,  8.,  9., 10.],\n",
              "         [ 1.,  2.,  3.,  4.,  5.,  6.,  7.,  8.,  9., 10.]]),\n",
              " tensor([[ 1.,  1.,  1.],\n",
              "         [ 2.,  2.,  2.],\n",
              "         [ 3.,  3.,  3.],\n",
              "         [ 4.,  4.,  4.],\n",
              "         [ 5.,  5.,  5.],\n",
              "         [ 6.,  6.,  6.],\n",
              "         [ 7.,  7.,  7.],\n",
              "         [ 8.,  8.,  8.],\n",
              "         [ 9.,  9.,  9.],\n",
              "         [10., 10., 10.]]))"
            ]
          },
          "metadata": {},
          "execution_count": 55
        }
      ]
    },
    {
      "cell_type": "code",
      "source": [
        "# Squeeze - removes all single dimensions from a tensor.\n",
        "x_squeezed = x_reshaped.squeeze()\n",
        "\n",
        "x_reshaped, x_reshaped.shape, x_squeezed, x_squeezed.shape"
      ],
      "metadata": {
        "colab": {
          "base_uri": "https://localhost:8080/"
        },
        "id": "8z-ajcQXyifJ",
        "outputId": "09a3f3b6-a351-4404-fbc7-40eeda623485"
      },
      "execution_count": 56,
      "outputs": [
        {
          "output_type": "execute_result",
          "data": {
            "text/plain": [
              "(tensor([[ 1.,  2.,  3.,  4.,  5.,  6.,  7.,  8.,  9., 10.]]),\n",
              " torch.Size([1, 10]),\n",
              " tensor([ 1.,  2.,  3.,  4.,  5.,  6.,  7.,  8.,  9., 10.]),\n",
              " torch.Size([10]))"
            ]
          },
          "metadata": {},
          "execution_count": 56
        }
      ]
    },
    {
      "cell_type": "code",
      "source": [
        "# Unsqueeze - adds a single dimension to a target tensor at the specified dimension.\n",
        "x_unsqueezed = x_squeezed.unsqueeze(dim=1)\n",
        "\n",
        "x_squeezed, x_squeezed.shape, x_unsqueezed, x_unsqueezed.shape"
      ],
      "metadata": {
        "colab": {
          "base_uri": "https://localhost:8080/"
        },
        "id": "5BMI13e8zdvJ",
        "outputId": "667e8ae9-28cb-44c7-8a37-bc639d52177c"
      },
      "execution_count": 57,
      "outputs": [
        {
          "output_type": "execute_result",
          "data": {
            "text/plain": [
              "(tensor([ 1.,  2.,  3.,  4.,  5.,  6.,  7.,  8.,  9., 10.]),\n",
              " torch.Size([10]),\n",
              " tensor([[ 1.],\n",
              "         [ 2.],\n",
              "         [ 3.],\n",
              "         [ 4.],\n",
              "         [ 5.],\n",
              "         [ 6.],\n",
              "         [ 7.],\n",
              "         [ 8.],\n",
              "         [ 9.],\n",
              "         [10.]]),\n",
              " torch.Size([10, 1]))"
            ]
          },
          "metadata": {},
          "execution_count": 57
        }
      ]
    },
    {
      "cell_type": "code",
      "source": [
        "# Permute - Re-arranged the dimensions of a target tensor in a specified order\n",
        "x_original = torch.rand(size=(244, 244, 3))\n",
        "x_original.permute(2, 0, 1) # positional integers..."
      ],
      "metadata": {
        "colab": {
          "base_uri": "https://localhost:8080/"
        },
        "id": "OmYm4McH0umL",
        "outputId": "230a7784-d802-4564-cd94-d55a20a953f4"
      },
      "execution_count": 58,
      "outputs": [
        {
          "output_type": "execute_result",
          "data": {
            "text/plain": [
              "tensor([[[0.3136, 0.8038, 0.9027,  ..., 0.7628, 0.1760, 0.3079],\n",
              "         [0.8685, 0.9311, 0.7414,  ..., 0.2147, 0.6901, 0.2641],\n",
              "         [0.9384, 0.4133, 0.9236,  ..., 0.8716, 0.7491, 0.7163],\n",
              "         ...,\n",
              "         [0.1932, 0.2817, 0.5759,  ..., 0.5741, 0.9446, 0.6175],\n",
              "         [0.5765, 0.3608, 0.6487,  ..., 0.4470, 0.3457, 0.5319],\n",
              "         [0.0213, 0.8021, 0.4093,  ..., 0.8112, 0.2339, 0.9329]],\n",
              "\n",
              "        [[0.2207, 0.1396, 0.7438,  ..., 0.3755, 0.1624, 0.5820],\n",
              "         [0.1820, 0.6364, 0.5343,  ..., 0.2787, 0.2518, 0.1292],\n",
              "         [0.5749, 0.8398, 0.2750,  ..., 0.7098, 0.9724, 0.9027],\n",
              "         ...,\n",
              "         [0.5302, 0.6180, 0.5070,  ..., 0.2866, 0.8394, 0.6481],\n",
              "         [0.4780, 0.4785, 0.2687,  ..., 0.0282, 0.3050, 0.6583],\n",
              "         [0.8826, 0.7960, 0.1298,  ..., 0.4817, 0.4520, 0.6205]],\n",
              "\n",
              "        [[0.5802, 0.4623, 0.6864,  ..., 0.7457, 0.0649, 0.8584],\n",
              "         [0.4413, 0.7385, 0.6222,  ..., 0.0150, 0.9499, 0.1235],\n",
              "         [0.2740, 0.5094, 0.9406,  ..., 0.5974, 0.7013, 0.3212],\n",
              "         ...,\n",
              "         [0.2165, 0.8030, 0.1176,  ..., 0.1602, 0.9769, 0.3753],\n",
              "         [0.9190, 0.4191, 0.1610,  ..., 0.6039, 0.5620, 0.0686],\n",
              "         [0.9257, 0.0393, 0.7427,  ..., 0.8929, 0.1567, 0.0757]]])"
            ]
          },
          "metadata": {},
          "execution_count": 58
        }
      ]
    },
    {
      "cell_type": "markdown",
      "source": [
        "## Indexing (Selecting Data from Tensors)\n",
        "\n",
        "- Indexing with PyTorch is similar to indexing with NumPy."
      ],
      "metadata": {
        "id": "cGVSyZPt10-A"
      }
    },
    {
      "cell_type": "code",
      "source": [
        "# Create a tensor\n",
        "x = torch.arange(1, 10).reshape(1, 3, 3)\n",
        "x, x.shape"
      ],
      "metadata": {
        "colab": {
          "base_uri": "https://localhost:8080/"
        },
        "id": "vIHHR109kqfh",
        "outputId": "e6d0b47b-74b3-4841-db68-0f527bdc9ed7"
      },
      "execution_count": 59,
      "outputs": [
        {
          "output_type": "execute_result",
          "data": {
            "text/plain": [
              "(tensor([[[1, 2, 3],\n",
              "          [4, 5, 6],\n",
              "          [7, 8, 9]]]),\n",
              " torch.Size([1, 3, 3]))"
            ]
          },
          "metadata": {},
          "execution_count": 59
        }
      ]
    },
    {
      "cell_type": "code",
      "source": [
        "# Indexing New Tensor\n",
        "x[0]"
      ],
      "metadata": {
        "colab": {
          "base_uri": "https://localhost:8080/"
        },
        "id": "etTdb1WAvQhE",
        "outputId": "beea1dd6-83a2-4e1b-8c21-31ddbd77ae96"
      },
      "execution_count": 60,
      "outputs": [
        {
          "output_type": "execute_result",
          "data": {
            "text/plain": [
              "tensor([[1, 2, 3],\n",
              "        [4, 5, 6],\n",
              "        [7, 8, 9]])"
            ]
          },
          "metadata": {},
          "execution_count": 60
        }
      ]
    },
    {
      "cell_type": "code",
      "source": [
        "x[0, 1], x[0][1]"
      ],
      "metadata": {
        "colab": {
          "base_uri": "https://localhost:8080/"
        },
        "id": "66Y2x_yPvZ0M",
        "outputId": "878835aa-facd-4726-b1a5-9efe764e764b"
      },
      "execution_count": 61,
      "outputs": [
        {
          "output_type": "execute_result",
          "data": {
            "text/plain": [
              "(tensor([4, 5, 6]), tensor([4, 5, 6]))"
            ]
          },
          "metadata": {},
          "execution_count": 61
        }
      ]
    },
    {
      "cell_type": "code",
      "source": [
        "x[0, 0, 2], x[0][0][2]"
      ],
      "metadata": {
        "colab": {
          "base_uri": "https://localhost:8080/"
        },
        "id": "JV92QT3bvfBs",
        "outputId": "227143fd-45f1-470b-8528-3ffd2c9104e0"
      },
      "execution_count": 62,
      "outputs": [
        {
          "output_type": "execute_result",
          "data": {
            "text/plain": [
              "(tensor(3), tensor(3))"
            ]
          },
          "metadata": {},
          "execution_count": 62
        }
      ]
    },
    {
      "cell_type": "code",
      "source": [
        "# Can also use \":\" to select \"all\" of a target dimension\n",
        "x[:, 0]"
      ],
      "metadata": {
        "id": "fRCJDEAdvjy8",
        "colab": {
          "base_uri": "https://localhost:8080/"
        },
        "outputId": "0a97dc49-0a00-4560-aab7-f00055785644"
      },
      "execution_count": 63,
      "outputs": [
        {
          "output_type": "execute_result",
          "data": {
            "text/plain": [
              "tensor([[1, 2, 3]])"
            ]
          },
          "metadata": {},
          "execution_count": 63
        }
      ]
    },
    {
      "cell_type": "code",
      "source": [
        "# Get all values of 0th and 1st dimensions but only index 1 of 2nd dimension\n",
        "x[:, :, 1]"
      ],
      "metadata": {
        "colab": {
          "base_uri": "https://localhost:8080/"
        },
        "id": "lkcUCy1phL_v",
        "outputId": "8a12a14a-1824-4af0-994c-0d224f8d66cd"
      },
      "execution_count": 64,
      "outputs": [
        {
          "output_type": "execute_result",
          "data": {
            "text/plain": [
              "tensor([[2, 5, 8]])"
            ]
          },
          "metadata": {},
          "execution_count": 64
        }
      ]
    },
    {
      "cell_type": "code",
      "source": [
        "# Get all values of the 0 dimension but only the 1 index of the 1st and 2nd dimension\n",
        "x[:, 1, 1]"
      ],
      "metadata": {
        "colab": {
          "base_uri": "https://localhost:8080/"
        },
        "id": "PibtqPVghcO3",
        "outputId": "b2852dea-ba60-4ee2-e346-63a074165fda"
      },
      "execution_count": 65,
      "outputs": [
        {
          "output_type": "execute_result",
          "data": {
            "text/plain": [
              "tensor([5])"
            ]
          },
          "metadata": {},
          "execution_count": 65
        }
      ]
    },
    {
      "cell_type": "code",
      "source": [
        "# Get index 0 of 0th and 1st dimension, and all values of 2nd dimension\n",
        "x[0, 0, :]"
      ],
      "metadata": {
        "colab": {
          "base_uri": "https://localhost:8080/"
        },
        "id": "QbUT2ECghrbb",
        "outputId": "2bc6db85-cf60-48f7-8b27-e8b2d330ae15"
      },
      "execution_count": 66,
      "outputs": [
        {
          "output_type": "execute_result",
          "data": {
            "text/plain": [
              "tensor([1, 2, 3])"
            ]
          },
          "metadata": {},
          "execution_count": 66
        }
      ]
    },
    {
      "cell_type": "markdown",
      "source": [
        "# PyTorch Tensors & NumPy\n",
        "- Numpy is a popular scientific python numerical cumputing library.\n",
        "- And because of this, PyTorch has functionality to interarct with it.\n",
        "- To convert data from NumPy (`ndarray`) too data which can work with PyTorch, -> `torch.from_numpy(ndarray)`. Which changes the data into a pytorch tensor.\n",
        "- PyTorch Tensor -> Numpy Array -> `torch.Tensor.numpy()`"
      ],
      "metadata": {
        "id": "EjNDsZ4oiDu_"
      }
    },
    {
      "cell_type": "code",
      "source": [
        "# NumPy array to PyTorch tensor\n",
        "array = np.arange(1.0, 11.0)\n",
        "tensor = torch.from_numpy(array)#.type(torch.float32)\n",
        "\n",
        "array, tensor"
      ],
      "metadata": {
        "colab": {
          "base_uri": "https://localhost:8080/"
        },
        "id": "0gABlpwnjGSd",
        "outputId": "401fba5f-4c45-49ec-a70f-7a925d54a795"
      },
      "execution_count": 67,
      "outputs": [
        {
          "output_type": "execute_result",
          "data": {
            "text/plain": [
              "(array([ 1.,  2.,  3.,  4.,  5.,  6.,  7.,  8.,  9., 10.]),\n",
              " tensor([ 1.,  2.,  3.,  4.,  5.,  6.,  7.,  8.,  9., 10.], dtype=torch.float64))"
            ]
          },
          "metadata": {},
          "execution_count": 67
        }
      ]
    },
    {
      "cell_type": "markdown",
      "source": [
        "- Note that the data type after converting the `ndarray` to a `torch.tensor`, the data type is `torch.float64`.\n",
        "- That is because NumPy's default data type is `float64`, whereas PyTorch's default data type is `float32`.\n",
        "- Therefore, PyTorch will reflect NumPy's default data type, unless specified otherwise."
      ],
      "metadata": {
        "id": "1oDbreVZjV3G"
      }
    },
    {
      "cell_type": "code",
      "source": [
        "# Changing the value of array, to see if it also affects the tensor.\n",
        "array = array + 1\n",
        "tensor, array"
      ],
      "metadata": {
        "colab": {
          "base_uri": "https://localhost:8080/"
        },
        "id": "cgJH7uZ1jklX",
        "outputId": "4953a2d0-30fe-448e-bde9-0ad865ad3c11"
      },
      "execution_count": 68,
      "outputs": [
        {
          "output_type": "execute_result",
          "data": {
            "text/plain": [
              "(tensor([ 1.,  2.,  3.,  4.,  5.,  6.,  7.,  8.,  9., 10.], dtype=torch.float64),\n",
              " array([ 2.,  3.,  4.,  5.,  6.,  7.,  8.,  9., 10., 11.]))"
            ]
          },
          "metadata": {},
          "execution_count": 68
        }
      ]
    },
    {
      "cell_type": "code",
      "source": [
        "# Tensor to NumPy\n",
        "tensor = torch.rand(1, 3, 3)\n",
        "array = tensor.numpy()\n",
        "\n",
        "tensor, array"
      ],
      "metadata": {
        "colab": {
          "base_uri": "https://localhost:8080/"
        },
        "id": "7n60ckgak7Lk",
        "outputId": "633ad1bc-1fe7-4ecd-901a-4cc7d926b59f"
      },
      "execution_count": 69,
      "outputs": [
        {
          "output_type": "execute_result",
          "data": {
            "text/plain": [
              "(tensor([[[0.9829, 0.0487, 0.0335],\n",
              "          [0.9894, 0.4139, 0.1726],\n",
              "          [0.8577, 0.5255, 0.1048]]]),\n",
              " array([[[0.9829421 , 0.04873502, 0.03351963],\n",
              "         [0.9893952 , 0.41391778, 0.17261833],\n",
              "         [0.85769045, 0.52545977, 0.10477674]]], dtype=float32))"
            ]
          },
          "metadata": {},
          "execution_count": 69
        }
      ]
    },
    {
      "cell_type": "markdown",
      "source": [
        "- As visible, NumPy also preserves PyTorch's default data type."
      ],
      "metadata": {
        "id": "Pjs_w7ZFlV6U"
      }
    },
    {
      "cell_type": "code",
      "source": [
        "# Changing the value of tensor, to see if it also affects the array.\n",
        "tensor += 1\n",
        "\n",
        "array, tensor"
      ],
      "metadata": {
        "colab": {
          "base_uri": "https://localhost:8080/"
        },
        "id": "PLmtbFCAlsTI",
        "outputId": "b5499b48-edc4-4562-fc17-315b868296cd"
      },
      "execution_count": 70,
      "outputs": [
        {
          "output_type": "execute_result",
          "data": {
            "text/plain": [
              "(array([[[1.9829421, 1.048735 , 1.0335196],\n",
              "         [1.9893951, 1.4139178, 1.1726184],\n",
              "         [1.8576905, 1.5254598, 1.1047767]]], dtype=float32),\n",
              " tensor([[[1.9829, 1.0487, 1.0335],\n",
              "          [1.9894, 1.4139, 1.1726],\n",
              "          [1.8577, 1.5255, 1.1048]]]))"
            ]
          },
          "metadata": {},
          "execution_count": 70
        }
      ]
    },
    {
      "cell_type": "markdown",
      "source": [
        "- As visible, changing the value of the tensor also changes the value of the numpy array. This is the total opposite of the previous scenario."
      ],
      "metadata": {
        "id": "DEaae-TTmGhT"
      }
    },
    {
      "cell_type": "markdown",
      "source": [
        "# Reproducibility in PyTorch\n",
        "\n",
        "- Trying to take the random out of random.\n",
        "- In short, how a neural network learns is start with random numbers, perform tensor operations, update random numbers to try and make them better representations of the data -> again -> again -> again...\n",
        "- To reduce the randomness in neural networks in PyTorch, comes the concept of **random seed**.\n",
        "- What the random seed does is \"flavour\" the randomness."
      ],
      "metadata": {
        "id": "OL03uQvcmXgd"
      }
    },
    {
      "cell_type": "code",
      "source": [
        "# Create two random tensors and compare them to see if any of the values are equal. (which is highly unlikely)\n",
        "\n",
        "random_a = torch.rand(3, 4)\n",
        "random_b = torch.rand(3, 4)\n",
        "\n",
        "print(random_a)\n",
        "print(random_b)\n",
        "print(random_a == random_b)"
      ],
      "metadata": {
        "colab": {
          "base_uri": "https://localhost:8080/"
        },
        "id": "ko0889K1nFPz",
        "outputId": "b8385c2a-94e7-4215-8a74-86cb4dde58e1"
      },
      "execution_count": 71,
      "outputs": [
        {
          "output_type": "stream",
          "name": "stdout",
          "text": [
            "tensor([[0.2754, 0.7381, 0.5829, 0.6039],\n",
            "        [0.4896, 0.6854, 0.6609, 0.9534],\n",
            "        [0.8540, 0.3560, 0.7108, 0.9771]])\n",
            "tensor([[0.4193, 0.9689, 0.6983, 0.6671],\n",
            "        [0.9280, 0.7334, 0.6585, 0.8993],\n",
            "        [0.7870, 0.5158, 0.3709, 0.1840]])\n",
            "tensor([[False, False, False, False],\n",
            "        [False, False, False, False],\n",
            "        [False, False, False, False]])\n"
          ]
        }
      ]
    },
    {
      "cell_type": "code",
      "source": [
        "# Making random but reproducible tensors.\n",
        "\n",
        "RANDOM_SEED = 42\n",
        "\n",
        "torch.manual_seed(RANDOM_SEED)\n",
        "random_c = torch.rand(3, 4)\n",
        "\n",
        "torch.manual_seed(RANDOM_SEED)\n",
        "random_d = torch.rand(3, 4)\n",
        "\n",
        "print(random_c)\n",
        "print(random_d)\n",
        "print(random_c == random_d)"
      ],
      "metadata": {
        "colab": {
          "base_uri": "https://localhost:8080/"
        },
        "id": "17uQITalxqvk",
        "outputId": "e09a7000-1367-4321-909f-b031a1d52e98"
      },
      "execution_count": 72,
      "outputs": [
        {
          "output_type": "stream",
          "name": "stdout",
          "text": [
            "tensor([[0.8823, 0.9150, 0.3829, 0.9593],\n",
            "        [0.3904, 0.6009, 0.2566, 0.7936],\n",
            "        [0.9408, 0.1332, 0.9346, 0.5936]])\n",
            "tensor([[0.8823, 0.9150, 0.3829, 0.9593],\n",
            "        [0.3904, 0.6009, 0.2566, 0.7936],\n",
            "        [0.9408, 0.1332, 0.9346, 0.5936]])\n",
            "tensor([[True, True, True, True],\n",
            "        [True, True, True, True],\n",
            "        [True, True, True, True]])\n"
          ]
        }
      ]
    },
    {
      "cell_type": "markdown",
      "source": [
        "# Running Tensors and PyTorch Objects on the GPU\n",
        "\n",
        "- GPUs can work on numbers faster, using CUDA + NVIDIA hardware + PyTorch Working behind the scenes to make everything good.\n",
        "- How to get a GPU - Use Google Colab. Or get Colab Pro for better and faster hardware.  Or use a local gpu, or use cloud providers such as GCP."
      ],
      "metadata": {
        "id": "8V_sQahjyxUE"
      }
    },
    {
      "cell_type": "code",
      "source": [
        "# Checking GPU access in google colab\n",
        "torch.cuda.is_available()"
      ],
      "metadata": {
        "colab": {
          "base_uri": "https://localhost:8080/"
        },
        "id": "xPqcNv5E0n8R",
        "outputId": "c1d84d9a-5d76-46d1-c312-54ca2afe5e85"
      },
      "execution_count": 73,
      "outputs": [
        {
          "output_type": "execute_result",
          "data": {
            "text/plain": [
              "True"
            ]
          },
          "metadata": {},
          "execution_count": 73
        }
      ]
    },
    {
      "cell_type": "code",
      "source": [
        "# Setup device agnostic code.\n",
        "device = \"cuda\" if torch.cuda.is_available() else \"cpu\"\n",
        "device"
      ],
      "metadata": {
        "colab": {
          "base_uri": "https://localhost:8080/",
          "height": 35
        },
        "id": "8FqXpGKp526d",
        "outputId": "8362d7b1-9ebf-44ff-8a33-9c1867011b4f"
      },
      "execution_count": 74,
      "outputs": [
        {
          "output_type": "execute_result",
          "data": {
            "text/plain": [
              "'cuda'"
            ],
            "application/vnd.google.colaboratory.intrinsic+json": {
              "type": "string"
            }
          },
          "metadata": {},
          "execution_count": 74
        }
      ]
    },
    {
      "cell_type": "markdown",
      "source": [
        "- For PyTorch, since its capable of running compute oon the GPU or CPU, its best practice to setup device agnostic code."
      ],
      "metadata": {
        "id": "y8g5vaYh6IGF"
      }
    },
    {
      "cell_type": "markdown",
      "source": [
        "## Putting Tensors and Models on the GPU.\n",
        "\n",
        "- We may want to do this because running  tensors or models on the GPU results in faster computation."
      ],
      "metadata": {
        "id": "3yY8vzWU6iqt"
      }
    },
    {
      "cell_type": "code",
      "source": [
        "# create a tensor (default on the CPU unless specified)\n",
        "\n",
        "tensor = torch.tensor([1, 2, 3], device=\"cpu\")\n",
        "\n",
        "# Tensor not on GPU\n",
        "print(tensor, tensor.device)"
      ],
      "metadata": {
        "colab": {
          "base_uri": "https://localhost:8080/"
        },
        "id": "w_EZVXfN6xuO",
        "outputId": "0763d915-f8be-4c39-ead7-0735a237f43f"
      },
      "execution_count": 76,
      "outputs": [
        {
          "output_type": "stream",
          "name": "stdout",
          "text": [
            "tensor([1, 2, 3]) cpu\n"
          ]
        }
      ]
    },
    {
      "cell_type": "code",
      "source": [
        "# Moving tensor to GPU if it is available.\n",
        "tensor_on_gpu = tensor.to(device)\n",
        "tensor_on_gpu"
      ],
      "metadata": {
        "colab": {
          "base_uri": "https://localhost:8080/"
        },
        "id": "xp8OO9bM7FFG",
        "outputId": "ac5d3060-924d-48af-d68c-e778a36c03bf"
      },
      "execution_count": 77,
      "outputs": [
        {
          "output_type": "execute_result",
          "data": {
            "text/plain": [
              "tensor([1, 2, 3], device='cuda:0')"
            ]
          },
          "metadata": {},
          "execution_count": 77
        }
      ]
    },
    {
      "cell_type": "markdown",
      "source": [
        "- `cuda:0` here `0` is the index of the GPU we're using."
      ],
      "metadata": {
        "id": "gqqXE2-V7cu2"
      }
    },
    {
      "cell_type": "code",
      "source": [
        "# Moving tensor back to the CPU.\n",
        "tensor_back_on_cpu = tensor_on_gpu.cpu()\n",
        "tensor_back_on_cpu.device"
      ],
      "metadata": {
        "colab": {
          "base_uri": "https://localhost:8080/"
        },
        "id": "zAC_slWw7nH7",
        "outputId": "577bb70c-bfb9-4d1a-a5de-15c5459b8b1a"
      },
      "execution_count": 80,
      "outputs": [
        {
          "output_type": "execute_result",
          "data": {
            "text/plain": [
              "device(type='cpu')"
            ]
          },
          "metadata": {},
          "execution_count": 80
        }
      ]
    }
  ]
}